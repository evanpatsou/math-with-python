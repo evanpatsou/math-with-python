{
 "cells": [
  {
   "cell_type": "markdown",
   "id": "9cc5fd0a",
   "metadata": {},
   "source": [
    "# Solving inequalities\n",
    "\n",
    "- How to write out inequalities in Python\n",
    "- Solving inequalities using sym.solve\n",
    "- How to indicate infinity in sympy"
   ]
  },
  {
   "cell_type": "code",
   "execution_count": 1,
   "id": "3156b8a3",
   "metadata": {},
   "outputs": [],
   "source": [
    "import sympy as sym\n",
    "from IPython.display import display, Math"
   ]
  },
  {
   "cell_type": "code",
   "execution_count": 2,
   "id": "982fbec1",
   "metadata": {},
   "outputs": [
    {
     "data": {
      "text/latex": [
       "$\\displaystyle 2 < x \\wedge x < \\infty$"
      ],
      "text/plain": [
       "(2 < x) & (x < oo)"
      ]
     },
     "execution_count": 2,
     "metadata": {},
     "output_type": "execute_result"
    }
   ],
   "source": [
    "x = sym.symbols('x')\n",
    "\n",
    "expr = 4*x > 8\n",
    "sym.solve(expr)"
   ]
  },
  {
   "cell_type": "code",
   "execution_count": 3,
   "id": "14b2a622",
   "metadata": {},
   "outputs": [
    {
     "data": {
      "text/latex": [
       "$\\displaystyle 2 < x \\wedge x < \\infty$"
      ],
      "text/plain": [
       "<IPython.core.display.Math object>"
      ]
     },
     "metadata": {},
     "output_type": "display_data"
    }
   ],
   "source": [
    "display(Math(sym.latex(sym.solve(expr))))"
   ]
  },
  {
   "cell_type": "code",
   "execution_count": 4,
   "id": "f11bf762",
   "metadata": {},
   "outputs": [
    {
     "data": {
      "text/latex": [
       "$\\displaystyle \\text{True}$"
      ],
      "text/plain": [
       "True"
      ]
     },
     "execution_count": 4,
     "metadata": {},
     "output_type": "execute_result"
    }
   ],
   "source": [
    "sym.oo > 99999999999999999999"
   ]
  },
  {
   "cell_type": "code",
   "execution_count": 5,
   "id": "2da61ff6",
   "metadata": {},
   "outputs": [
    {
     "data": {
      "text/latex": [
       "$\\displaystyle \\left(-\\infty < x \\wedge x < -3\\right) \\vee \\left(1 < x \\wedge x < \\infty\\right)$"
      ],
      "text/plain": [
       "<IPython.core.display.Math object>"
      ]
     },
     "metadata": {},
     "output_type": "display_data"
    }
   ],
   "source": [
    "expr = (x-1)*(x+3) > 0\n",
    "\n",
    "display(Math(sym.latex(sym.solve(expr))))"
   ]
  },
  {
   "cell_type": "code",
   "execution_count": 6,
   "id": "9f5219f2",
   "metadata": {},
   "outputs": [
    {
     "data": {
      "text/latex": [
       "$\\displaystyle a x > \\frac{b^{2}}{c}$"
      ],
      "text/plain": [
       "<IPython.core.display.Math object>"
      ]
     },
     "metadata": {},
     "output_type": "display_data"
    },
    {
     "data": {
      "text/latex": [
       "$\\displaystyle a x > \\frac{b^{2}}{c}$"
      ],
      "text/plain": [
       "a*x > b**2/c"
      ]
     },
     "execution_count": 6,
     "metadata": {},
     "output_type": "execute_result"
    }
   ],
   "source": [
    "# sym.solve will return the expression if not enough information\n",
    "\n",
    "a,b,c = sym.symbols('a,b,c')\n",
    "\n",
    "expr = a*x > b**2/c\n",
    "display(Math(sym.latex(expr)))\n",
    "\n",
    "sym.solve(expr,x)"
   ]
  },
  {
   "cell_type": "code",
   "execution_count": 7,
   "id": "40c6b7de",
   "metadata": {},
   "outputs": [
    {
     "data": {
      "text/latex": [
       "$\\displaystyle \\left(-\\infty < x \\wedge x < -2\\right) \\vee \\left(2 < x \\wedge x < \\infty\\right)$"
      ],
      "text/plain": [
       "((-oo < x) & (x < -2)) | ((2 < x) & (x < oo))"
      ]
     },
     "execution_count": 7,
     "metadata": {},
     "output_type": "execute_result"
    }
   ],
   "source": [
    "# a slightly richer problem\n",
    "sym.solve( 2*x**2>8 )"
   ]
  },
  {
   "cell_type": "markdown",
   "id": "d9dd047b",
   "metadata": {},
   "source": [
    "### Exercises"
   ]
  },
  {
   "cell_type": "code",
   "execution_count": 8,
   "id": "8b2d88b9",
   "metadata": {},
   "outputs": [
    {
     "data": {
      "text/latex": [
       "$\\displaystyle \\frac{4}{3} - \\frac{x}{6} \\leq \\frac{5 x}{4} - \\frac{1}{2}$"
      ],
      "text/plain": [
       "<IPython.core.display.Math object>"
      ]
     },
     "metadata": {},
     "output_type": "display_data"
    },
    {
     "data": {
      "text/latex": [
       "$\\displaystyle \\text{The answer is: }\\frac{22}{17} \\leq x \\wedge x < \\infty$"
      ],
      "text/plain": [
       "<IPython.core.display.Math object>"
      ]
     },
     "metadata": {},
     "output_type": "display_data"
    }
   ],
   "source": [
    "expr = (3*x/2) + (4-5*x)/3 <= 2 - (5*(2-x))/4\n",
    "\n",
    "display(Math(sym.latex(expr)))\n",
    "display(Math('\\\\text{The answer is: }%s' %(sym.latex(sym.solve(expr,x)))))"
   ]
  }
 ],
 "metadata": {
  "kernelspec": {
   "display_name": "Python 3",
   "language": "python",
   "name": "python3"
  },
  "language_info": {
   "codemirror_mode": {
    "name": "ipython",
    "version": 3
   },
   "file_extension": ".py",
   "mimetype": "text/x-python",
   "name": "python",
   "nbconvert_exporter": "python",
   "pygments_lexer": "ipython3",
   "version": "3.8.8"
  }
 },
 "nbformat": 4,
 "nbformat_minor": 5
}
