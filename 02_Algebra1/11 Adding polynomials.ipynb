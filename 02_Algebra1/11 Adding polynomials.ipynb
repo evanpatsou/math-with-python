{
 "cells": [
  {
   "cell_type": "markdown",
   "id": "65596444",
   "metadata": {},
   "source": [
    "# Adding polynomials\n",
    "\n",
    "- what \"polynomials\" are\n",
    "- How to work with polynomials in Python\n",
    "- How to add and substract polynomials"
   ]
  },
  {
   "cell_type": "code",
   "execution_count": 1,
   "id": "c31ee4b2",
   "metadata": {},
   "outputs": [],
   "source": [
    "import sympy as sym\n",
    "from IPython.display import display, Math"
   ]
  },
  {
   "cell_type": "code",
   "execution_count": 2,
   "id": "881215cb",
   "metadata": {},
   "outputs": [
    {
     "name": "stdout",
     "output_type": "stream",
     "text": [
      "-x**4 + 3*x**3 - 3*x**2 - x\n"
     ]
    },
    {
     "data": {
      "text/latex": [
       "$\\displaystyle (2 x^{3} + x^{2} - x) + (- x^{4} + x^{3} - 4 x^{2}) \\quad=\\quad (- x^{4} + 3 x^{3} - 3 x^{2} - x)$"
      ],
      "text/plain": [
       "<IPython.core.display.Math object>"
      ]
     },
     "metadata": {},
     "output_type": "display_data"
    }
   ],
   "source": [
    "from sympy.abc import x\n",
    "\n",
    "# straight-forward version\n",
    "p1 = 2*x**3 + x**2 - x\n",
    "p2 = x**3 - x**4 - 4*x**2\n",
    "print( p1+p2 )\n",
    "\n",
    "display(Math('(%s) + (%s) \\quad=\\quad (%s)' %(sym.latex(p1),sym.latex(p2),sym.latex(p1+p2) )))"
   ]
  },
  {
   "cell_type": "code",
   "execution_count": 3,
   "id": "ffd7fb67",
   "metadata": {},
   "outputs": [
    {
     "data": {
      "text/latex": [
       "$\\displaystyle \\operatorname{Poly}{\\left( 2 x^{6} + x^{2} - x, x, domain=\\mathbb{Z} \\right)}$"
      ],
      "text/plain": [
       "Poly(2*x**6 + x**2 - x, x, domain='ZZ')"
      ]
     },
     "execution_count": 3,
     "metadata": {},
     "output_type": "execute_result"
    }
   ],
   "source": [
    "# Using the Poly class\n",
    "p1 = sym.Poly(2*x**6 + x**2 - x)\n",
    "\n",
    "p1"
   ]
  },
  {
   "cell_type": "code",
   "execution_count": 4,
   "id": "3417c589",
   "metadata": {},
   "outputs": [
    {
     "name": "stdout",
     "output_type": "stream",
     "text": [
      "2000090\n",
      "6\n"
     ]
    }
   ],
   "source": [
    "# can implement several methods on the polynomial object\n",
    "print( p1.eval(10) )\n",
    "\n",
    "print( p1.degree() )"
   ]
  },
  {
   "cell_type": "code",
   "execution_count": 5,
   "id": "6ca29f6e",
   "metadata": {},
   "outputs": [
    {
     "name": "stdout",
     "output_type": "stream",
     "text": [
      "Poly(2.0*x**6 + 1.0*x**4 - 1.0*x**3 + 1.4*x**2 - 1.0*x, x, domain='RR')\n",
      "Poly(2.0*x**6 + 1.0*x**4 - 1.0*x**3 + 1.4*x**2 - 1.0*x, x, domain='RR')\n",
      "Poly(2*x**6 + x**2 - x, x, domain='ZZ')\n"
     ]
    }
   ],
   "source": [
    "# create a second polynomial\n",
    "p2 = sym.Poly(x**3 - x**4 - .4*x**2)\n",
    "print( p1-p2 )\n",
    "\n",
    "# can also call the add method on the polynomial objects\n",
    "p1.add(p2)\n",
    "p1.sub(p2)\n",
    "print(p1.sub(p2))\n",
    "print(p1)"
   ]
  },
  {
   "cell_type": "markdown",
   "id": "6f0dace0",
   "metadata": {},
   "source": [
    "### Exercises"
   ]
  },
  {
   "cell_type": "code",
   "execution_count": 6,
   "id": "e0ebd878",
   "metadata": {},
   "outputs": [
    {
     "name": "stdout",
     "output_type": "stream",
     "text": [
      "The degree of x**2 + 2*x is even, and the coefficients sum to 3.\n",
      "The degree of -x**3 + 4*x is even, and the coefficients count to 2.\n",
      "The degree of x**5 - x**4 + x/4 + 4 is even, and the coefficients count to 4.\n"
     ]
    }
   ],
   "source": [
    "x = sym.symbols('x')\n",
    "\n",
    "# Implement  polynomials as a list\n",
    "plist = [\n",
    "    sym.Poly(x**2 + 2*x),\n",
    "    sym.Poly(-x**3 + 4*x),\n",
    "    sym.Poly(x**5 - x**4 + x/4 + 4)\n",
    "]\n",
    "\n",
    "for poly in plist:\n",
    "    degree = poly.degree()\n",
    "    \n",
    "    if degree % 2 == 0:\n",
    "        print('The degree of %s is even, and the coefficients sum to %s.' %(poly.as_expr(), sum(poly.coeffs())))\n",
    "    else:\n",
    "         print('The degree of %s is even, and the coefficients count to %s.' %(poly.as_expr(), len(poly.coeffs())))"
   ]
  }
 ],
 "metadata": {
  "kernelspec": {
   "display_name": "Python 3",
   "language": "python",
   "name": "python3"
  },
  "language_info": {
   "codemirror_mode": {
    "name": "ipython",
    "version": 3
   },
   "file_extension": ".py",
   "mimetype": "text/x-python",
   "name": "python",
   "nbconvert_exporter": "python",
   "pygments_lexer": "ipython3",
   "version": "3.8.8"
  }
 },
 "nbformat": 4,
 "nbformat_minor": 5
}
