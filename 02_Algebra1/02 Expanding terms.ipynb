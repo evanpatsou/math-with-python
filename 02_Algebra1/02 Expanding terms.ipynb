{
 "cells": [
  {
   "cell_type": "markdown",
   "id": "fda460e2",
   "metadata": {},
   "source": [
    "# Expanding terms\n",
    "\n",
    "- An alternative way to create symbolic variables\n",
    "- How to use multiplication to expand terms"
   ]
  },
  {
   "cell_type": "code",
   "execution_count": 1,
   "id": "59cd76c4",
   "metadata": {},
   "outputs": [],
   "source": [
    "import sympy as sym\n",
    "from IPython.display import display, Math"
   ]
  },
  {
   "cell_type": "code",
   "execution_count": 2,
   "id": "91a5bab1",
   "metadata": {},
   "outputs": [
    {
     "name": "stdout",
     "output_type": "stream",
     "text": [
      "x*(4*x + 5)\n",
      "4*x**2 + 5*x\n"
     ]
    },
    {
     "data": {
      "text/latex": [
       "$\\displaystyle 4 x^{2} + 5 x$"
      ],
      "text/plain": [
       "<IPython.core.display.Math object>"
      ]
     },
     "metadata": {},
     "output_type": "display_data"
    },
    {
     "name": "stdout",
     "output_type": "stream",
     "text": [
      "<IPython.core.display.Math object>\n"
     ]
    }
   ],
   "source": [
    "# define our terms\n",
    "from sympy.abc import x\n",
    "\n",
    "term1 = (4*x + 5)\n",
    "term2 = x\n",
    "\n",
    "print( term1*term2 )\n",
    "print( sym.expand(term1*term2) )\n",
    "display( Math(sym.latex(sym.expand(term1*term2)) ))\n",
    "print( Math(sym.latex(sym.expand(term1*term2)) )) # printing the object message"
   ]
  },
  {
   "cell_type": "code",
   "execution_count": 3,
   "id": "91023997",
   "metadata": {},
   "outputs": [
    {
     "data": {
      "text/latex": [
       "$\\displaystyle \\left(x - 7\\right) \\left(4 x + 5\\right)$"
      ],
      "text/plain": [
       "<IPython.core.display.Math object>"
      ]
     },
     "metadata": {},
     "output_type": "display_data"
    },
    {
     "data": {
      "text/latex": [
       "$\\displaystyle 4 x^{2} - 23 x - 35$"
      ],
      "text/plain": [
       "<IPython.core.display.Math object>"
      ]
     },
     "metadata": {},
     "output_type": "display_data"
    }
   ],
   "source": [
    "term3 = x - 7 # note that parentheses are not necessary!\n",
    "\n",
    "display(Math( sym.latex(term1*term3) ))\n",
    "display(Math( sym.latex( sym.expand(term1*term3) )))"
   ]
  },
  {
   "cell_type": "code",
   "execution_count": 4,
   "id": "73450c1a",
   "metadata": {},
   "outputs": [
    {
     "data": {
      "text/latex": [
       "$\\displaystyle - 5^{x} + 2 x y^{2}$"
      ],
      "text/plain": [
       "-5**x + 2*x*y**2"
      ]
     },
     "execution_count": 4,
     "metadata": {},
     "output_type": "execute_result"
    }
   ],
   "source": [
    "# with two variables\n",
    "y = sym.symbols('y')\n",
    "\n",
    "expr = x*(2*y**2 - 5**x/x)\n",
    "sym.expand(expr)"
   ]
  },
  {
   "cell_type": "code",
   "execution_count": 5,
   "id": "fd3e43ed",
   "metadata": {},
   "outputs": [
    {
     "name": "stdout",
     "output_type": "stream",
     "text": [
      "Variable   Type        Data/Info\n",
      "--------------------------------\n",
      "Math       type        <class 'IPython.core.display.Math'>\n",
      "display    function    <function display at 0x000002A6298D74C0>\n",
      "expr       Mul         x*(-5**x/x + 2*y**2)\n",
      "sym        module      <module 'sympy' from 'C:\\<...>ges\\\\sympy\\\\__init__.py'>\n",
      "term1      Add         4*x + 5\n",
      "term2      Symbol      x\n",
      "term3      Add         x - 7\n",
      "x          Symbol      x\n",
      "y          Symbol      y\n"
     ]
    }
   ],
   "source": [
    "# three expressions and three variables!!\n",
    "# but first, what variables have we already created??\n",
    "%whos"
   ]
  },
  {
   "cell_type": "code",
   "execution_count": 6,
   "id": "6ef85cc4",
   "metadata": {},
   "outputs": [
    {
     "data": {
      "text/latex": [
       "$\\displaystyle \\left(x + 3\\right) \\left(3 x + \\frac{5}{z}\\right) \\left(y - 4 z\\right)$"
      ],
      "text/plain": [
       "<IPython.core.display.Math object>"
      ]
     },
     "metadata": {},
     "output_type": "display_data"
    },
    {
     "data": {
      "text/latex": [
       "$\\displaystyle 3 x^{2} y - 12 x^{2} z + 9 x y + \\frac{5 x y}{z} - 36 x z - 20 x + \\frac{15 y}{z} - 60$"
      ],
      "text/plain": [
       "<IPython.core.display.Math object>"
      ]
     },
     "metadata": {},
     "output_type": "display_data"
    },
    {
     "data": {
      "text/latex": [
       "$\\displaystyle \\frac{5 x y + 15 y + z \\left(3 x^{2} y - 12 x^{2} z + 9 x y - 36 x z - 20 x - 60\\right)}{z}$"
      ],
      "text/plain": [
       "<IPython.core.display.Math object>"
      ]
     },
     "metadata": {},
     "output_type": "display_data"
    }
   ],
   "source": [
    "z = sym.symbols('z')\n",
    "\n",
    "term1 = (3 + x)\n",
    "term2 = (y - 4*z)\n",
    "term3 = (5/z + 3*x)\n",
    "\n",
    "display(Math(sym.latex(term1*term2*term3)))\n",
    "display(Math(sym.latex(sym.expand(term1*term2*term3))))\n",
    "display(Math(sym.latex(sym.simplify(sym.expand(term1*term2*term3)))))"
   ]
  },
  {
   "cell_type": "markdown",
   "id": "504e5b0e",
   "metadata": {},
   "source": [
    "### Exercises"
   ]
  },
  {
   "cell_type": "code",
   "execution_count": 7,
   "id": "873ed81a",
   "metadata": {},
   "outputs": [
    {
     "data": {
      "text/latex": [
       "$\\displaystyle \\text{When x = }0 \\text{ and y = }0 \\text{ f(x,y) = }8$"
      ],
      "text/plain": [
       "<IPython.core.display.Math object>"
      ]
     },
     "metadata": {},
     "output_type": "display_data"
    },
    {
     "data": {
      "text/latex": [
       "$\\displaystyle \\text{When x = }0 \\text{ and y = }1 \\text{ f(x,y) = }4$"
      ],
      "text/plain": [
       "<IPython.core.display.Math object>"
      ]
     },
     "metadata": {},
     "output_type": "display_data"
    },
    {
     "data": {
      "text/latex": [
       "$\\displaystyle \\text{When x = }0 \\text{ and y = }2 \\text{ f(x,y) = }0$"
      ],
      "text/plain": [
       "<IPython.core.display.Math object>"
      ]
     },
     "metadata": {},
     "output_type": "display_data"
    },
    {
     "data": {
      "text/latex": [
       "$\\displaystyle \\text{When x = }1 \\text{ and y = }0 \\text{ f(x,y) = }10$"
      ],
      "text/plain": [
       "<IPython.core.display.Math object>"
      ]
     },
     "metadata": {},
     "output_type": "display_data"
    },
    {
     "data": {
      "text/latex": [
       "$\\displaystyle \\text{When x = }1 \\text{ and y = }1 \\text{ f(x,y) = }5$"
      ],
      "text/plain": [
       "<IPython.core.display.Math object>"
      ]
     },
     "metadata": {},
     "output_type": "display_data"
    },
    {
     "data": {
      "text/latex": [
       "$\\displaystyle \\text{When x = }1 \\text{ and y = }2 \\text{ f(x,y) = }0$"
      ],
      "text/plain": [
       "<IPython.core.display.Math object>"
      ]
     },
     "metadata": {},
     "output_type": "display_data"
    },
    {
     "data": {
      "text/latex": [
       "$\\displaystyle \\text{When x = }2 \\text{ and y = }0 \\text{ f(x,y) = }12$"
      ],
      "text/plain": [
       "<IPython.core.display.Math object>"
      ]
     },
     "metadata": {},
     "output_type": "display_data"
    },
    {
     "data": {
      "text/latex": [
       "$\\displaystyle \\text{When x = }2 \\text{ and y = }1 \\text{ f(x,y) = }6$"
      ],
      "text/plain": [
       "<IPython.core.display.Math object>"
      ]
     },
     "metadata": {},
     "output_type": "display_data"
    },
    {
     "data": {
      "text/latex": [
       "$\\displaystyle \\text{When x = }2 \\text{ and y = }2 \\text{ f(x,y) = }0$"
      ],
      "text/plain": [
       "<IPython.core.display.Math object>"
      ]
     },
     "metadata": {},
     "output_type": "display_data"
    }
   ],
   "source": [
    "# create the symbols\n",
    "x, y = sym.symbols('x,y')\n",
    "eq = (4 + x)*(2-y)\n",
    "\n",
    "for i in range(0,3):\n",
    "    for j in range(0,3):\n",
    "        display(Math('\\\\text{When x = }%g \\\\text{ and y = }%g \\\\text{ f(x,y) = }%g' %(i,j, eq.subs({x: i, y: j}))))"
   ]
  }
 ],
 "metadata": {
  "kernelspec": {
   "display_name": "Python 3",
   "language": "python",
   "name": "python3"
  },
  "language_info": {
   "codemirror_mode": {
    "name": "ipython",
    "version": 3
   },
   "file_extension": ".py",
   "mimetype": "text/x-python",
   "name": "python",
   "nbconvert_exporter": "python",
   "pygments_lexer": "ipython3",
   "version": "3.8.8"
  }
 },
 "nbformat": 4,
 "nbformat_minor": 5
}
