{
 "cells": [
  {
   "cell_type": "markdown",
   "id": "4fb6b26c",
   "metadata": {},
   "source": [
    "# Factoring polynomials\n",
    "\n",
    "- What it means to \"factor\" a polynomial\n",
    "- How to do it in python"
   ]
  },
  {
   "cell_type": "code",
   "execution_count": 1,
   "id": "9ae4d0fe",
   "metadata": {},
   "outputs": [],
   "source": [
    "import sympy as sym\n",
    "import numpy as np\n",
    "from IPython.display import display, Math"
   ]
  },
  {
   "cell_type": "code",
   "execution_count": 2,
   "id": "2c561175",
   "metadata": {},
   "outputs": [
    {
     "data": {
      "text/latex": [
       "$\\displaystyle \\left(x + 1\\right) \\left(x + 3\\right)$"
      ],
      "text/plain": [
       "(x + 1)*(x + 3)"
      ]
     },
     "execution_count": 2,
     "metadata": {},
     "output_type": "execute_result"
    }
   ],
   "source": [
    "x,y =  sym.symbols('x,y')\n",
    "\n",
    "p = x**2 + 4*x + 3\n",
    "sym.factor(p)"
   ]
  },
  {
   "cell_type": "code",
   "execution_count": 3,
   "id": "46762219",
   "metadata": {},
   "outputs": [
    {
     "data": {
      "text/latex": [
       "$\\displaystyle 2 x \\left(x y + 3\\right) \\left(x - y + 1\\right)$"
      ],
      "text/plain": [
       "2*x*(x*y + 3)*(x - y + 1)"
      ]
     },
     "execution_count": 3,
     "metadata": {},
     "output_type": "execute_result"
    }
   ],
   "source": [
    "# multiple variables\n",
    "expr = 2*x**3*y - 2*x**2*y**2 + 2*x**2*y + 6*x**2 - 6*x*y + 6*x\n",
    "sym.factor(expr)"
   ]
  },
  {
   "cell_type": "code",
   "execution_count": 4,
   "id": "cb7d2667",
   "metadata": {},
   "outputs": [
    {
     "data": {
      "text/latex": [
       "$\\displaystyle 2 \\left(y - 3\\right) \\left(y - 1\\right) \\left(y + 3\\right)$"
      ],
      "text/plain": [
       "2*(y - 3)*(y - 1)*(y + 3)"
      ]
     },
     "execution_count": 4,
     "metadata": {},
     "output_type": "execute_result"
    }
   ],
   "source": [
    "expr = 2*y**3 - 2*y**2 - 18*y + 18\n",
    "sym.factor(expr)"
   ]
  },
  {
   "cell_type": "code",
   "execution_count": 5,
   "id": "00b381b5",
   "metadata": {},
   "outputs": [
    {
     "name": "stdout",
     "output_type": "stream",
     "text": [
      "(x + 1)*(x + 3)\n"
     ]
    }
   ],
   "source": [
    "# with output\n",
    "po = x**2 + 4*x + 3\n",
    "sym.factor(po)\n",
    "\n",
    "fac = sym.factor(po)\n",
    "print(fac)"
   ]
  },
  {
   "cell_type": "markdown",
   "id": "46ef8949",
   "metadata": {},
   "source": [
    "### Exercises"
   ]
  },
  {
   "cell_type": "code",
   "execution_count": 6,
   "id": "3319792a",
   "metadata": {},
   "outputs": [
    {
     "data": {
      "text/latex": [
       "$\\displaystyle x^{2} + 4 x + 3 \\Rightarrow \\left(x + 1\\right) \\left(x + 3\\right)$"
      ],
      "text/plain": [
       "<IPython.core.display.Math object>"
      ]
     },
     "metadata": {},
     "output_type": "display_data"
    },
    {
     "data": {
      "text/latex": [
       "$\\displaystyle 2 y^{2} - 1 \\Rightarrow \\text{not factorable!}$"
      ],
      "text/plain": [
       "<IPython.core.display.Math object>"
      ]
     },
     "metadata": {},
     "output_type": "display_data"
    },
    {
     "data": {
      "text/latex": [
       "$\\displaystyle 3 y^{2} + 12 y \\Rightarrow 3 y \\left(y + 4\\right)$"
      ],
      "text/plain": [
       "<IPython.core.display.Math object>"
      ]
     },
     "metadata": {},
     "output_type": "display_data"
    }
   ],
   "source": [
    "# Initialize the symbols\n",
    "x,y =  sym.symbols('x,y')\n",
    "\n",
    "# Initialize the expressions\n",
    "e1 = x**2 + 4*x + 3\n",
    "e2 = 2*y**2 - 1\n",
    "e3 = 3*y**2 + 12*y\n",
    "\n",
    "# Make a list of expr\n",
    "list_expr = [e1, e2, e3]\n",
    "\n",
    "# Loop through the expressions to see if they are is factorable!\n",
    "for expr in list_expr:\n",
    "    \n",
    "    if( expr == sym.factor(expr)):\n",
    "        display(Math('%s \\\\Rightarrow %s' %(sym.latex(expr) , '\\\\text{not factorable!}' )))\n",
    "    else:\n",
    "        display(Math('%s \\\\Rightarrow %s' %(sym.latex(expr) , sym.latex(sym.factor(expr) ))))\n",
    "        "
   ]
  }
 ],
 "metadata": {
  "kernelspec": {
   "display_name": "Python 3 (ipykernel)",
   "language": "python",
   "name": "python3"
  },
  "language_info": {
   "codemirror_mode": {
    "name": "ipython",
    "version": 3
   },
   "file_extension": ".py",
   "mimetype": "text/x-python",
   "name": "python",
   "nbconvert_exporter": "python",
   "pygments_lexer": "ipython3",
   "version": "3.8.10"
  }
 },
 "nbformat": 4,
 "nbformat_minor": 5
}
