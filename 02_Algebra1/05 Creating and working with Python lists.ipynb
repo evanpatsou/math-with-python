{
 "cells": [
  {
   "cell_type": "markdown",
   "id": "eeb36859",
   "metadata": {},
   "source": [
    "# Creating and working with Python lists\n",
    "\n",
    "- How to create lists \n",
    "- How to access elements or sets of elements of lists\n",
    "- An introduction to \"slicing\""
   ]
  },
  {
   "cell_type": "code",
   "execution_count": 1,
   "id": "4b7c5342",
   "metadata": {},
   "outputs": [],
   "source": [
    "import sympy as sym\n",
    "from IPython.display import display, Math"
   ]
  },
  {
   "cell_type": "code",
   "execution_count": 2,
   "id": "d4d07987",
   "metadata": {},
   "outputs": [
    {
     "name": "stdout",
     "output_type": "stream",
     "text": [
      "[1, 3, 4, 7]\n",
      "<class 'list'>\n"
     ]
    }
   ],
   "source": [
    "# a list is a collection of things, and created using brackets []\n",
    "# A simple example is a list of numbers\n",
    "\n",
    "lst = [1,3,4,7]\n",
    "print( lst )\n",
    "print(type(lst))"
   ]
  },
  {
   "cell_type": "code",
   "execution_count": 3,
   "id": "400884e7",
   "metadata": {},
   "outputs": [
    {
     "data": {
      "text/plain": [
       "4"
      ]
     },
     "execution_count": 3,
     "metadata": {},
     "output_type": "execute_result"
    }
   ],
   "source": [
    "# you can access individual list elements\n",
    "lst[2]"
   ]
  },
  {
   "cell_type": "code",
   "execution_count": 4,
   "id": "790b97e0",
   "metadata": {},
   "outputs": [
    {
     "data": {
      "text/plain": [
       "7"
      ]
     },
     "execution_count": 4,
     "metadata": {},
     "output_type": "execute_result"
    }
   ],
   "source": [
    "# -1 is for the final element\n",
    "lst[-1]"
   ]
  },
  {
   "cell_type": "code",
   "execution_count": 5,
   "id": "8758f40c",
   "metadata": {},
   "outputs": [
    {
     "data": {
      "text/plain": [
       "[1, 3]"
      ]
     },
     "execution_count": 5,
     "metadata": {},
     "output_type": "execute_result"
    }
   ],
   "source": [
    "# \"slicing\"\n",
    "\n",
    "# print the first N list items\n",
    "N = 2\n",
    "lst[:N]"
   ]
  },
  {
   "cell_type": "code",
   "execution_count": 6,
   "id": "0ecc0ad2",
   "metadata": {},
   "outputs": [
    {
     "data": {
      "text/plain": [
       "[4, 7]"
      ]
     },
     "execution_count": 6,
     "metadata": {},
     "output_type": "execute_result"
    }
   ],
   "source": [
    "# print the last k items\n",
    "k = 2\n",
    "lst[-k:]"
   ]
  },
  {
   "cell_type": "code",
   "execution_count": 7,
   "id": "b197ae21",
   "metadata": {},
   "outputs": [
    {
     "data": {
      "text/plain": [
       "[3, 4, 5, 6, 7]"
      ]
     },
     "execution_count": 7,
     "metadata": {},
     "output_type": "execute_result"
    }
   ],
   "source": [
    "# print items n through k\n",
    "lst = [1,2,3,4,5,6,7,8,9]\n",
    "\n",
    "n = 3\n",
    "k = 7\n",
    "\n",
    "lst[n-1:k]"
   ]
  },
  {
   "cell_type": "code",
   "execution_count": 8,
   "id": "9ee5583d",
   "metadata": {},
   "outputs": [
    {
     "name": "stdout",
     "output_type": "stream",
     "text": [
      "hello\n",
      "my\n",
      "name\n",
      "is\n",
      "Mike\n"
     ]
    }
   ],
   "source": [
    "# a list of strings\n",
    "name = ['hello','my','name','is','Mike']\n",
    "\n",
    "# access each element using a for-loop\n",
    "for i in range(len(name)):\n",
    "    print(name[i])"
   ]
  },
  {
   "cell_type": "code",
   "execution_count": 9,
   "id": "7a240a71",
   "metadata": {},
   "outputs": [
    {
     "name": "stdout",
     "output_type": "stream",
     "text": [
      "hello\n",
      "my\n",
      "name\n",
      "is\n",
      "Mike\n"
     ]
    }
   ],
   "source": [
    "# simpler!\n",
    "for i in name:\n",
    "    print(i)"
   ]
  },
  {
   "cell_type": "code",
   "execution_count": 10,
   "id": "d6f1da48",
   "metadata": {},
   "outputs": [
    {
     "name": "stdout",
     "output_type": "stream",
     "text": [
      "1\n",
      "2\n",
      "cookies\n",
      "[4, 5]\n"
     ]
    }
   ],
   "source": [
    "# lists can also hold more than one variable type\n",
    "alist = [1,2,'cookies',[4,5]]\n",
    "\n",
    "for i in alist:\n",
    "    print(i)"
   ]
  },
  {
   "cell_type": "code",
   "execution_count": 11,
   "id": "5cffecff",
   "metadata": {},
   "outputs": [
    {
     "name": "stdout",
     "output_type": "stream",
     "text": [
      "[4, 5]\n",
      "5\n"
     ]
    }
   ],
   "source": [
    "# getting items from a list-within-a-list\n",
    "\n",
    "print( alist[-1] )\n",
    "\n",
    "print( alist[-1][1] )"
   ]
  },
  {
   "cell_type": "code",
   "execution_count": 12,
   "id": "d3161f2e",
   "metadata": {},
   "outputs": [],
   "source": [
    "# importantly, we will use lists for sympy expressions!\n",
    "# list_of_expressions\n",
    "x = sym.symbols('x')\n",
    "expr_list = [ 4*x**2 , 3+x , (1-x)/(1+x) ]"
   ]
  },
  {
   "cell_type": "code",
   "execution_count": 13,
   "id": "f40a09fb",
   "metadata": {},
   "outputs": [
    {
     "name": "stdout",
     "output_type": "stream",
     "text": [
      "4*x**2\n",
      "x + 3\n",
      "(1 - x)/(x + 1)\n"
     ]
    }
   ],
   "source": [
    "for expr in expr_list:\n",
    "    print(expr)"
   ]
  },
  {
   "cell_type": "markdown",
   "id": "fa2116fd",
   "metadata": {},
   "source": [
    "### Exercises"
   ]
  },
  {
   "cell_type": "code",
   "execution_count": 14,
   "id": "830af36f",
   "metadata": {},
   "outputs": [
    {
     "data": {
      "text/latex": [
       "$\\displaystyle x \\left(4 - 6 x\\right) + 3 x \\iff  x \\left(7 - 6 x\\right)$"
      ],
      "text/plain": [
       "<IPython.core.display.Math object>"
      ]
     },
     "metadata": {},
     "output_type": "display_data"
    },
    {
     "data": {
      "text/latex": [
       "$\\displaystyle - x \\left(\\frac{2}{x} + \\frac{4}{x^{2}}\\right) + \\frac{x + 4}{4 x} \\iff  - \\frac{7}{4} - \\frac{3}{x}$"
      ],
      "text/plain": [
       "<IPython.core.display.Math object>"
      ]
     },
     "metadata": {},
     "output_type": "display_data"
    },
    {
     "data": {
      "text/latex": [
       "$\\displaystyle \\frac{\\left(x - 3\\right) \\left(x + 3\\right)}{9} \\iff  \\frac{x^{2}}{9} - 1$"
      ],
      "text/plain": [
       "<IPython.core.display.Math object>"
      ]
     },
     "metadata": {},
     "output_type": "display_data"
    }
   ],
   "source": [
    "x = sym.symbols('x')\n",
    "\n",
    "e1 = 2*x + x*(4-6*x) + x\n",
    "e2 = -x * (2/x + 4/(x**2)) + (4+x)/(4*x)\n",
    "e3 = (x + 3)*(x-3)*x*(1/(9*x))\n",
    "\n",
    "expr_list = [e1, e2, e3]\n",
    "\n",
    "for expr in expr_list:\n",
    "    display(Math('%s \\\\iff  %s' %(sym.latex(expr) , sym.latex(sym.simplify(expr)))))"
   ]
  }
 ],
 "metadata": {
  "kernelspec": {
   "display_name": "Python 3",
   "language": "python",
   "name": "python3"
  },
  "language_info": {
   "codemirror_mode": {
    "name": "ipython",
    "version": 3
   },
   "file_extension": ".py",
   "mimetype": "text/x-python",
   "name": "python",
   "nbconvert_exporter": "python",
   "pygments_lexer": "ipython3",
   "version": "3.8.8"
  }
 },
 "nbformat": 4,
 "nbformat_minor": 5
}
