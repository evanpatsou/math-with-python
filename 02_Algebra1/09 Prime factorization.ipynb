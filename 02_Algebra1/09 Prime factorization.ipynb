{
 "cells": [
  {
   "cell_type": "markdown",
   "id": "9e06cb04",
   "metadata": {},
   "source": [
    "# Prime factorization\n",
    "\n",
    "- What it means to factora positive integer into its prime factors.\n",
    "- An alorithm to detirmine whether a number is prime\n",
    "\n",
    "Prime factorization:\n",
    "Breaking down a number into prime multiplicands\n",
    "\n",
    "1. 8 = 2 x 2 x 2\n",
    "2. 25 = 5 x 5\n",
    "3. 48 = 2 x 2 x 2 x 2 x 3"
   ]
  },
  {
   "cell_type": "code",
   "execution_count": 1,
   "id": "8ce94c94",
   "metadata": {},
   "outputs": [],
   "source": [
    "import sympy as sym\n",
    "from IPython.display import display, Math\n",
    "import numpy as np"
   ]
  },
  {
   "cell_type": "code",
   "execution_count": 2,
   "id": "cda3b3e4",
   "metadata": {},
   "outputs": [
    {
     "name": "stdout",
     "output_type": "stream",
     "text": [
      "{2: 4, 3: 1}\n"
     ]
    }
   ],
   "source": [
    "# factor an integer into the product of prime numbers\n",
    "number = 48\n",
    "\n",
    "# Use the sympy function factorint. The output is a dictionary!\n",
    "fact_dict = sym.factorint(number)\n",
    "print(fact_dict)"
   ]
  },
  {
   "cell_type": "code",
   "execution_count": 3,
   "id": "f64ee20d",
   "metadata": {},
   "outputs": [
    {
     "name": "stdout",
     "output_type": "stream",
     "text": [
      "The prime factors of 48 are [2, 3]\n"
     ]
    },
    {
     "data": {
      "text/plain": [
       "1"
      ]
     },
     "execution_count": 3,
     "metadata": {},
     "output_type": "execute_result"
    }
   ],
   "source": [
    "# just print the prime numbers\n",
    "primenumbers = list( fact_dict.keys() )\n",
    "\n",
    "print('The prime factors of ' + str(number) + ' are ' + str(primenumbers))\n",
    "\n",
    "fact_dict[primenumbers[1]]"
   ]
  },
  {
   "cell_type": "code",
   "execution_count": 4,
   "id": "9bb7947b",
   "metadata": {},
   "outputs": [
    {
     "data": {
      "text/plain": [
       "2"
      ]
     },
     "execution_count": 4,
     "metadata": {},
     "output_type": "execute_result"
    }
   ],
   "source": [
    "len(primenumbers)"
   ]
  },
  {
   "cell_type": "code",
   "execution_count": 5,
   "id": "0669de0c",
   "metadata": {},
   "outputs": [
    {
     "data": {
      "text/plain": [
       "{5: 1}"
      ]
     },
     "execution_count": 5,
     "metadata": {},
     "output_type": "execute_result"
    }
   ],
   "source": [
    "# test on prime number\n",
    "sym.factorint(5)"
   ]
  },
  {
   "cell_type": "markdown",
   "id": "3926d335",
   "metadata": {},
   "source": [
    "### Exercise"
   ]
  },
  {
   "cell_type": "code",
   "execution_count": 6,
   "id": "6a387619",
   "metadata": {},
   "outputs": [
    {
     "name": "stdout",
     "output_type": "stream",
     "text": [
      "2 is a prime number.\n",
      "3 is a prime number.\n",
      "4 is a composite number with prime factors are [2]\n",
      "5 is a prime number.\n",
      "6 is a composite number with prime factors are [2, 3]\n",
      "7 is a prime number.\n",
      "8 is a composite number with prime factors are [2]\n",
      "9 is a composite number with prime factors are [3]\n",
      "10 is a composite number with prime factors are [2, 5]\n",
      "11 is a prime number.\n",
      "12 is a composite number with prime factors are [2, 3]\n",
      "13 is a prime number.\n",
      "14 is a composite number with prime factors are [2, 7]\n",
      "15 is a composite number with prime factors are [3, 5]\n",
      "16 is a composite number with prime factors are [2]\n",
      "17 is a prime number.\n",
      "18 is a composite number with prime factors are [2, 3]\n",
      "19 is a prime number.\n",
      "20 is a composite number with prime factors are [2, 5]\n",
      "21 is a composite number with prime factors are [3, 7]\n",
      "22 is a composite number with prime factors are [2, 11]\n",
      "23 is a prime number.\n",
      "24 is a composite number with prime factors are [2, 3]\n",
      "25 is a composite number with prime factors are [5]\n",
      "26 is a composite number with prime factors are [2, 13]\n",
      "27 is a composite number with prime factors are [3]\n",
      "28 is a composite number with prime factors are [2, 7]\n",
      "29 is a prime number.\n",
      "30 is a composite number with prime factors are [2, 3, 5]\n",
      "31 is a prime number.\n",
      "32 is a composite number with prime factors are [2]\n",
      "33 is a composite number with prime factors are [3, 11]\n",
      "34 is a composite number with prime factors are [2, 17]\n",
      "35 is a composite number with prime factors are [5, 7]\n",
      "36 is a composite number with prime factors are [2, 3]\n",
      "37 is a prime number.\n",
      "38 is a composite number with prime factors are [2, 19]\n",
      "39 is a composite number with prime factors are [3, 13]\n",
      "40 is a composite number with prime factors are [2, 5]\n",
      "41 is a prime number.\n",
      "42 is a composite number with prime factors are [2, 3, 7]\n",
      "43 is a prime number.\n",
      "44 is a composite number with prime factors are [2, 11]\n",
      "45 is a composite number with prime factors are [3, 5]\n",
      "46 is a composite number with prime factors are [2, 23]\n",
      "47 is a prime number.\n",
      "48 is a composite number with prime factors are [2, 3]\n",
      "49 is a composite number with prime factors are [7]\n",
      "50 is a composite number with prime factors are [2, 5]\n"
     ]
    }
   ],
   "source": [
    "# loop through numbers and report whether each number is composite or prime\n",
    "\n",
    "nums = range(2,51)\n",
    "for num in nums:\n",
    "    factorization = sym.factorint(num)\n",
    "    keys = list( factorization.keys() )\n",
    "    \n",
    "    if len(keys) == 1 and factorization[keys[0]] == 1:\n",
    "        print(str(num) + ' is a prime number.')\n",
    "    else:\n",
    "        print(str(num) + ' is a composite number with prime factors are ' + str(keys))"
   ]
  }
 ],
 "metadata": {
  "kernelspec": {
   "display_name": "Python 3",
   "language": "python",
   "name": "python3"
  },
  "language_info": {
   "codemirror_mode": {
    "name": "ipython",
    "version": 3
   },
   "file_extension": ".py",
   "mimetype": "text/x-python",
   "name": "python",
   "nbconvert_exporter": "python",
   "pygments_lexer": "ipython3",
   "version": "3.8.8"
  }
 },
 "nbformat": 4,
 "nbformat_minor": 5
}
