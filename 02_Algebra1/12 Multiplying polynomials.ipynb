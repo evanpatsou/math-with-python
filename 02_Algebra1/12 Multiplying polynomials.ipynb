{
 "cells": [
  {
   "cell_type": "markdown",
   "id": "b24e37d1",
   "metadata": {},
   "source": [
    "# Multiplying polynomials\n",
    "\n",
    "- How to multiply polynomials.\n",
    "- More about working with polynomials in Python and Sympy"
   ]
  },
  {
   "cell_type": "code",
   "execution_count": 1,
   "id": "e16ee822",
   "metadata": {},
   "outputs": [],
   "source": [
    "import sympy as sym\n",
    "from IPython.display import display, Math"
   ]
  },
  {
   "cell_type": "code",
   "execution_count": 2,
   "id": "6414d326",
   "metadata": {},
   "outputs": [
    {
     "data": {
      "text/latex": [
       "$\\displaystyle x^{8}$"
      ],
      "text/plain": [
       "x**8"
      ]
     },
     "execution_count": 2,
     "metadata": {},
     "output_type": "execute_result"
    }
   ],
   "source": [
    "x = sym.symbols('x')\n",
    "\n",
    "x**5 * x**3 # χ^2 + χ^3 = χ^(5+3)"
   ]
  },
  {
   "cell_type": "code",
   "execution_count": 3,
   "id": "8fa49646",
   "metadata": {},
   "outputs": [
    {
     "data": {
      "text/latex": [
       "$\\displaystyle \\left(4 x^{2} - 2 x\\right) \\left(x^{3} + 1\\right)$"
      ],
      "text/plain": [
       "(4*x**2 - 2*x)*(x**3 + 1)"
      ]
     },
     "execution_count": 3,
     "metadata": {},
     "output_type": "execute_result"
    }
   ],
   "source": [
    "# a litte more complicated\n",
    "p1 = 4*x**2 - 2*x\n",
    "p2 = x**3 + 1\n",
    "\n",
    "p1*p2"
   ]
  },
  {
   "cell_type": "code",
   "execution_count": 4,
   "id": "b97befc7",
   "metadata": {},
   "outputs": [
    {
     "name": "stdout",
     "output_type": "stream",
     "text": [
      "4*x**5 - 2*x**4 + 4*x**2 - 2*x\n"
     ]
    },
    {
     "data": {
      "text/latex": [
       "$\\displaystyle \\left(4 x^{2} - 2 x\\right) \\left(x^{3} + 1\\right)$"
      ],
      "text/plain": [
       "<IPython.core.display.Math object>"
      ]
     },
     "metadata": {},
     "output_type": "display_data"
    },
    {
     "data": {
      "text/latex": [
       "$\\displaystyle 4 x^{5} - 2 x^{4} + 4 x^{2} - 2 x$"
      ],
      "text/plain": [
       "<IPython.core.display.Math object>"
      ]
     },
     "metadata": {},
     "output_type": "display_data"
    }
   ],
   "source": [
    "# the way your math teacher would want it written out\n",
    "print( sym.expand( p1*p2 ) )\n",
    "\n",
    "display(Math(sym.latex(p1*p2)))\n",
    "display(Math(sym.latex(sym.expand(p1*p2))))\n"
   ]
  },
  {
   "cell_type": "code",
   "execution_count": 5,
   "id": "4e0ac636",
   "metadata": {},
   "outputs": [
    {
     "data": {
      "text/latex": [
       "$\\displaystyle \\left(- 3 x y + x\\right) \\left(x^{5} + 2 x y + y^{2}\\right)$"
      ],
      "text/plain": [
       "(-3*x*y + x)*(x**5 + 2*x*y + y**2)"
      ]
     },
     "execution_count": 5,
     "metadata": {},
     "output_type": "execute_result"
    }
   ],
   "source": [
    "# check our work from the slides!\n",
    "x,y = sym.symbols('x,y')\n",
    "\n",
    "poly1 = x**5 + 2*x*y + y**2\n",
    "poly2 = x - 3*x*y\n",
    "\n",
    "poly1*poly2"
   ]
  },
  {
   "cell_type": "code",
   "execution_count": 6,
   "id": "0909b048",
   "metadata": {},
   "outputs": [
    {
     "data": {
      "text/latex": [
       "$\\displaystyle - 3 x^{6} y + x^{6} - 6 x^{2} y^{2} + 2 x^{2} y - 3 x y^{3} + x y^{2}$"
      ],
      "text/plain": [
       "<IPython.core.display.Math object>"
      ]
     },
     "metadata": {},
     "output_type": "display_data"
    }
   ],
   "source": [
    "display(Math(sym.latex(sym.expand( poly1*poly2 ))))"
   ]
  },
  {
   "cell_type": "markdown",
   "id": "3008a7cd",
   "metadata": {},
   "source": [
    "### Exercises"
   ]
  },
  {
   "cell_type": "code",
   "execution_count": 16,
   "id": "12ae854c",
   "metadata": {},
   "outputs": [
    {
     "data": {
      "text/latex": [
       "$\\displaystyle \\text{The multiplication of the polynomials is} - 4 x^{7} + 24 x^{6} y + 3 x^{5} + 3.2 x^{4} y^{3} - x^{4} y^{2} - 18 x^{4} y + 15 x^{3} y^{3} - 54 x^{2} y^{4} - 2.4 x^{2} y^{3} + 0.8 x y^{5} - 7.2 y^{6}$"
      ],
      "text/plain": [
       "<IPython.core.display.Math object>"
      ]
     },
     "metadata": {},
     "output_type": "display_data"
    },
    {
     "data": {
      "text/latex": [
       "$\\displaystyle \\text{Then substitute x = 5, y= -2: } -1085833.8$"
      ],
      "text/plain": [
       "<IPython.core.display.Math object>"
      ]
     },
     "metadata": {},
     "output_type": "display_data"
    },
    {
     "data": {
      "text/latex": [
       "$\\displaystyle \\text{G(5, -2) = } -431.4$"
      ],
      "text/plain": [
       "<IPython.core.display.Math object>"
      ]
     },
     "metadata": {},
     "output_type": "display_data"
    },
    {
     "data": {
      "text/latex": [
       "$\\displaystyle \\text{F(5, -2) = } 2517$"
      ],
      "text/plain": [
       "<IPython.core.display.Math object>"
      ]
     },
     "metadata": {},
     "output_type": "display_data"
    },
    {
     "data": {
      "text/latex": [
       "$\\displaystyle -431.4 * 2517 = -1085833.8$"
      ],
      "text/plain": [
       "<IPython.core.display.Math object>"
      ]
     },
     "metadata": {},
     "output_type": "display_data"
    }
   ],
   "source": [
    "x, y = sym.symbols('x,y')\n",
    "\n",
    "Fxy = 4*x**4 - 9*y**3 - 3*x**2 + x*y**2\n",
    "Gxy = 4/5*y**3 - x**3 + 6*x**2*y\n",
    "\n",
    "display(Math('\\\\text{The multiplication of the polynomials is} %s' %(sym.latex(sym.expand(Fxy * Gxy)))))\n",
    "display(Math('\\\\text{Then substitute x = 5, y= -2: } %s' %(sym.latex((Fxy * Gxy).subs({x: 5, y: -2})))))\n",
    "\n",
    "display(Math('\\\\text{G(5, -2) = } %s' %(sym.latex(Gxy.subs({x: 5, y: -2})))))\n",
    "display(Math('\\\\text{F(5, -2) = } %s' %(sym.latex(Fxy.subs({x: 5, y: -2})))))\n",
    "display(Math('%s * %s = %s' %(\n",
    "    sym.latex(Gxy.subs({x: 5, y: -2})),\n",
    "    sym.latex(Fxy.subs({x: 5, y: -2})),\n",
    "    sym.latex((Fxy * Gxy).subs({x: 5, y: -2}))\n",
    ")))"
   ]
  }
 ],
 "metadata": {
  "kernelspec": {
   "display_name": "Python 3",
   "language": "python",
   "name": "python3"
  },
  "language_info": {
   "codemirror_mode": {
    "name": "ipython",
    "version": 3
   },
   "file_extension": ".py",
   "mimetype": "text/x-python",
   "name": "python",
   "nbconvert_exporter": "python",
   "pygments_lexer": "ipython3",
   "version": "3.8.8"
  }
 },
 "nbformat": 4,
 "nbformat_minor": 5
}
