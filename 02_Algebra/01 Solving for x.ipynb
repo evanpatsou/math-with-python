{
 "cells": [
  {
   "cell_type": "markdown",
   "id": "ff33ecc8",
   "metadata": {},
   "source": [
    "# Solving for x\n",
    "\n",
    "- How to use sympy to solve for a variable\n",
    "- How to define one variable in terms of others variables\n",
    "- An introduction to Python lists"
   ]
  },
  {
   "cell_type": "code",
   "execution_count": 1,
   "id": "67399550",
   "metadata": {},
   "outputs": [],
   "source": [
    "# It's generally good practice to import all required modules at the top of the script!\n",
    "import sympy as sym\n",
    "from IPython.display import display, Math"
   ]
  },
  {
   "cell_type": "code",
   "execution_count": 2,
   "id": "a1dbb38b",
   "metadata": {},
   "outputs": [
    {
     "data": {
      "text/plain": [
       "[5/2]"
      ]
     },
     "execution_count": 2,
     "metadata": {},
     "output_type": "execute_result"
    }
   ],
   "source": [
    "x = sym.symbols('x')\n",
    "\n",
    "# the expression we want to solve is 2x+4=9\n",
    "expr = 2*x + 4 -9\n",
    "\n",
    "sym.solve(expr,x)"
   ]
  },
  {
   "cell_type": "code",
   "execution_count": 3,
   "id": "c6d5e556",
   "metadata": {},
   "outputs": [
    {
     "data": {
      "text/latex": [
       "$\\displaystyle \\text{The solution to }2 x - 5\\text{ is x = }2.5$"
      ],
      "text/plain": [
       "<IPython.core.display.Math object>"
      ]
     },
     "metadata": {},
     "output_type": "display_data"
    }
   ],
   "source": [
    "# Save the solution\n",
    "solution = sym.solve(expr,x)\n",
    "\n",
    "display(Math('\\\\text{The solution to }%s\\\\text{ is x = }%g' %(sym.latex(expr),solution[0])))"
   ]
  },
  {
   "cell_type": "code",
   "execution_count": 4,
   "id": "5716e992",
   "metadata": {},
   "outputs": [
    {
     "name": "stdout",
     "output_type": "stream",
     "text": [
      "Solution #1 is -2\n",
      "Solution #2 is 2\n"
     ]
    }
   ],
   "source": [
    "# Save the solution\n",
    "solution = sym.solve(x**2 - 4,x)\n",
    "\n",
    "# we can print them all out:\n",
    "for i in range(0,len(solution)):\n",
    "    print('Solution #' + str(i+1) + ' is ' + str(solution[i]))\n"
   ]
  },
  {
   "cell_type": "code",
   "execution_count": 5,
   "id": "0e5849fa",
   "metadata": {},
   "outputs": [
    {
     "name": "stdout",
     "output_type": "stream",
     "text": [
      "Solved for x: 20/(4*y - 1)\n",
      "Solved for y: [(x + 20)/(4*x)]\n"
     ]
    }
   ],
   "source": [
    "y = sym.symbols('y')\n",
    "\n",
    "expr = x/4 - x*y + 5\n",
    "\n",
    "print( \"Solved for x: \" + str(sym.solve(expr,x)[0]) )\n",
    "print( \"Solved for y: \" + str(sym.solve(expr,y)) )"
   ]
  },
  {
   "cell_type": "markdown",
   "id": "a23bb212",
   "metadata": {},
   "source": [
    "### Excercises"
   ]
  },
  {
   "cell_type": "code",
   "execution_count": 6,
   "id": "e202aa2f",
   "metadata": {},
   "outputs": [
    {
     "data": {
      "text/latex": [
       "$\\displaystyle - 2 q + 2 + \\frac{3}{q}$"
      ],
      "text/plain": [
       "<IPython.core.display.Math object>"
      ]
     },
     "metadata": {},
     "output_type": "display_data"
    },
    {
     "data": {
      "text/latex": [
       "$\\displaystyle q=\\left[ \\frac{1}{2} - \\frac{\\sqrt{7}}{2}, \\  \\frac{1}{2} + \\frac{\\sqrt{7}}{2}\\right]$"
      ],
      "text/plain": [
       "<IPython.core.display.Math object>"
      ]
     },
     "metadata": {},
     "output_type": "display_data"
    }
   ],
   "source": [
    "# 1) \n",
    "q = sym.symbols('q')\n",
    "expr = 3*q + 4/q + 3 - 5*q - 1/q - 1\n",
    "\n",
    "display(Math(sym.latex(sym.simplify(expr))))\n",
    "display(Math('q='+sym.latex(sym.solve(expr,q))))"
   ]
  },
  {
   "cell_type": "code",
   "execution_count": 7,
   "id": "b3efbc5d",
   "metadata": {},
   "outputs": [
    {
     "data": {
      "text/latex": [
       "$\\displaystyle 2 q - \\frac{5}{q} + \\frac{3}{q^{2}} - \\frac{3}{q^{3}}$"
      ],
      "text/plain": [
       "<IPython.core.display.Math object>"
      ]
     },
     "metadata": {},
     "output_type": "display_data"
    },
    {
     "data": {
      "text/latex": [
       "$\\displaystyle 2 q - \\frac{5}{q} + \\frac{3}{q^{2}} - \\frac{3}{q^{3}}$"
      ],
      "text/plain": [
       "<IPython.core.display.Math object>"
      ]
     },
     "metadata": {},
     "output_type": "display_data"
    },
    {
     "data": {
      "text/latex": [
       "$\\displaystyle \\frac{2 q^{4} - 5 q^{2} + 3 q - 3}{q^{3}}$"
      ],
      "text/plain": [
       "<IPython.core.display.Math object>"
      ]
     },
     "metadata": {},
     "output_type": "display_data"
    }
   ],
   "source": [
    "# 2)\n",
    "q = sym.symbols('q')\n",
    "expr = 2*q + 3/(q**2) - 5/q - 3/(q**3)\n",
    "\n",
    "display(Math(sym.latex(expr)))\n",
    "display(Math(sym.latex(sym.simplify(expr))))\n",
    "display(Math(sym.latex(sym.cancel(expr))))"
   ]
  },
  {
   "cell_type": "code",
   "execution_count": 8,
   "id": "5ff0b6a3",
   "metadata": {},
   "outputs": [
    {
     "data": {
      "text/latex": [
       "$\\displaystyle \\frac{\\sqrt{15} q + \\sqrt{3}}{\\sqrt{10} q + \\sqrt{2}}$"
      ],
      "text/plain": [
       "<IPython.core.display.Math object>"
      ]
     },
     "metadata": {},
     "output_type": "display_data"
    },
    {
     "data": {
      "text/latex": [
       "$\\displaystyle \\frac{\\sqrt{6}}{2}$"
      ],
      "text/plain": [
       "<IPython.core.display.Math object>"
      ]
     },
     "metadata": {},
     "output_type": "display_data"
    },
    {
     "data": {
      "text/latex": [
       "$\\displaystyle 1.22474487139159$"
      ],
      "text/plain": [
       "1.22474487139159"
      ]
     },
     "execution_count": 8,
     "metadata": {},
     "output_type": "execute_result"
    }
   ],
   "source": [
    "# 3)\n",
    "q = sym.symbols('q')\n",
    "expr = (sym.sqrt(3) + sym.sqrt(15) * q)/(sym.sqrt(2) + sym.sqrt(10) * q)\n",
    "\n",
    "display(Math(sym.latex(expr)))\n",
    "display(Math(sym.latex(sym.simplify(expr))))\n",
    "\n",
    "sym.simplify( expr.subs(q,10) )\n",
    "expr.subs(q,10).evalf()"
   ]
  }
 ],
 "metadata": {
  "kernelspec": {
   "display_name": "Python 3",
   "language": "python",
   "name": "python3"
  },
  "language_info": {
   "codemirror_mode": {
    "name": "ipython",
    "version": 3
   },
   "file_extension": ".py",
   "mimetype": "text/x-python",
   "name": "python",
   "nbconvert_exporter": "python",
   "pygments_lexer": "ipython3",
   "version": "3.8.8"
  }
 },
 "nbformat": 4,
 "nbformat_minor": 5
}
