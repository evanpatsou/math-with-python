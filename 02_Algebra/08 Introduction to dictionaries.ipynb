{
 "cells": [
  {
   "cell_type": "markdown",
   "id": "dce5c3ae",
   "metadata": {},
   "source": [
    "# Introduction to dictionaries\n",
    "\n",
    "- A new Python data type for associating and storing mixed data types\n",
    "- More experience with for loops"
   ]
  },
  {
   "cell_type": "code",
   "execution_count": 1,
   "id": "82b6647a",
   "metadata": {},
   "outputs": [],
   "source": [
    "import sympy as sym\n",
    "from IPython.display import display, Math\n",
    "import numpy as np"
   ]
  },
  {
   "cell_type": "code",
   "execution_count": 2,
   "id": "fc82ed42",
   "metadata": {},
   "outputs": [
    {
     "name": "stdout",
     "output_type": "stream",
     "text": [
      "{'fruit': ['banana', 'apple'], 'numbers': [1, 3, 4, 2, 5]}\n"
     ]
    }
   ],
   "source": [
    "# create a dictionary\n",
    "D = dict(fruit=['banana','apple'],numbers=[1,3,4,2,5])\n",
    "\n",
    "print(D)"
   ]
  },
  {
   "cell_type": "code",
   "execution_count": 3,
   "id": "ecc5491f",
   "metadata": {},
   "outputs": [
    {
     "data": {
      "text/plain": [
       "dict_keys(['fruit', 'numbers'])"
      ]
     },
     "execution_count": 3,
     "metadata": {},
     "output_type": "execute_result"
    }
   ],
   "source": [
    "# list the \"keys\"\n",
    "D.keys()"
   ]
  },
  {
   "cell_type": "code",
   "execution_count": 4,
   "id": "67b5dab7",
   "metadata": {},
   "outputs": [
    {
     "data": {
      "text/plain": [
       "'banana'"
      ]
     },
     "execution_count": 4,
     "metadata": {},
     "output_type": "execute_result"
    }
   ],
   "source": [
    "# or this way\n",
    "D.get('fruit')[0]"
   ]
  },
  {
   "cell_type": "code",
   "execution_count": 5,
   "id": "c934eb4f",
   "metadata": {},
   "outputs": [
    {
     "data": {
      "text/plain": [
       "2"
      ]
     },
     "execution_count": 5,
     "metadata": {},
     "output_type": "execute_result"
    }
   ],
   "source": [
    "len(D)"
   ]
  },
  {
   "cell_type": "code",
   "execution_count": 6,
   "id": "3b15861a",
   "metadata": {},
   "outputs": [
    {
     "name": "stdout",
     "output_type": "stream",
     "text": [
      "['banana', 'apple']\n",
      "[1, 3, 4, 2, 5]\n"
     ]
    }
   ],
   "source": [
    "# print out all information in a loop!\n",
    "for items in D.keys(): # .keys() is implied!\n",
    "    print(D[items])"
   ]
  },
  {
   "cell_type": "code",
   "execution_count": 7,
   "id": "887e5288",
   "metadata": {},
   "outputs": [
    {
     "data": {
      "text/plain": [
       "[x/3 - 6, 2*x + 3]"
      ]
     },
     "execution_count": 7,
     "metadata": {},
     "output_type": "execute_result"
    }
   ],
   "source": [
    "# make a dictionary of equations\n",
    "x,y = sym.symbols('x,y')\n",
    "\n",
    "D = dict(eqsWithX=[x/3-6,x*2+3],eqsWithY=[y-y/4,y-5])\n",
    "D.keys()\n",
    "\n",
    "Dkeys = list(D)\n",
    "\n",
    "# access individual keys\n",
    "D[Dkeys[0]]"
   ]
  },
  {
   "cell_type": "markdown",
   "id": "a5f96940",
   "metadata": {},
   "source": [
    "### Exercises"
   ]
  },
  {
   "cell_type": "code",
   "execution_count": 19,
   "id": "995cd4c6",
   "metadata": {},
   "outputs": [
    {
     "data": {
      "text/latex": [
       "$\\displaystyle \\text{Equations solving for X:}$"
      ],
      "text/plain": [
       "<IPython.core.display.Math object>"
      ]
     },
     "metadata": {},
     "output_type": "display_data"
    },
    {
     "data": {
      "text/latex": [
       "$\\displaystyle 4 x - 6 = 0 \\Rightarrow X = \\left[ \\frac{3}{2}\\right]$"
      ],
      "text/plain": [
       "<IPython.core.display.Math object>"
      ]
     },
     "metadata": {},
     "output_type": "display_data"
    },
    {
     "data": {
      "text/latex": [
       "$\\displaystyle x^{2} - 9 = 0 \\Rightarrow X = \\left[ -3, \\  3\\right]$"
      ],
      "text/plain": [
       "<IPython.core.display.Math object>"
      ]
     },
     "metadata": {},
     "output_type": "display_data"
    },
    {
     "data": {
      "text/latex": [
       "$\\displaystyle \\text{Equations solving for Y:}$"
      ],
      "text/plain": [
       "<IPython.core.display.Math object>"
      ]
     },
     "metadata": {},
     "output_type": "display_data"
    },
    {
     "data": {
      "text/latex": [
       "$\\displaystyle \\sin{\\left(y \\right)} = 0 \\Rightarrow Y = \\left[ 0, \\  \\pi\\right]$"
      ],
      "text/plain": [
       "<IPython.core.display.Math object>"
      ]
     },
     "metadata": {},
     "output_type": "display_data"
    }
   ],
   "source": [
    "# let's make a new dictionary\n",
    "x,y = sym.symbols('x,y')\n",
    "\n",
    "di = dict(eqsWithX=[4*x - 6, x**2-9],eqsWithY=[sym.sin(y)])\n",
    "letter = ''\n",
    "for key in di.keys():\n",
    "    if key == 'eqsWithX':\n",
    "        letter = 'X'\n",
    "    else:\n",
    "        letter = 'Y'\n",
    "        \n",
    "    # print the title:\n",
    "    display(Math(\"\\\\text{Equations solving for %s:}\" %(letter)))\n",
    "    \n",
    "    # print the equations\n",
    "    for item in di[key]:\n",
    "        display(Math('%s = 0 \\\\Rightarrow %s = %s' %(sym.latex(sym.sympify(item)), letter, sym.latex(sym.sympify(sym.solve(item))))))\n",
    "        \n"
   ]
  }
 ],
 "metadata": {
  "kernelspec": {
   "display_name": "Python 3",
   "language": "python",
   "name": "python3"
  },
  "language_info": {
   "codemirror_mode": {
    "name": "ipython",
    "version": 3
   },
   "file_extension": ".py",
   "mimetype": "text/x-python",
   "name": "python",
   "nbconvert_exporter": "python",
   "pygments_lexer": "ipython3",
   "version": "3.8.8"
  }
 },
 "nbformat": 4,
 "nbformat_minor": 5
}
