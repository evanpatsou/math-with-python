{
 "cells": [
  {
   "cell_type": "markdown",
   "id": "85bf0df0",
   "metadata": {},
   "source": [
    "# Associative, commutative, and distributive properties"
   ]
  },
  {
   "cell_type": "code",
   "execution_count": 1,
   "id": "f61ffba4",
   "metadata": {},
   "outputs": [],
   "source": [
    "import sympy as sym\n",
    "from IPython.display import display, Math"
   ]
  },
  {
   "cell_type": "code",
   "execution_count": 2,
   "id": "d011206f",
   "metadata": {},
   "outputs": [
    {
     "data": {
      "text/latex": [
       "$\\displaystyle 0$"
      ],
      "text/plain": [
       "0"
      ]
     },
     "execution_count": 2,
     "metadata": {},
     "output_type": "execute_result"
    }
   ],
   "source": [
    "# associative\n",
    "\n",
    "x,y = sym.symbols('x,y')\n",
    "\n",
    "expr1 = x * (4*y)\n",
    "expr2 = (x*4) * y\n",
    "\n",
    "expr1 - expr2"
   ]
  },
  {
   "cell_type": "code",
   "execution_count": 3,
   "id": "74d276eb",
   "metadata": {},
   "outputs": [],
   "source": [
    "# commutative\n",
    "\n",
    "e1 = 4*x*y\n",
    "e2 = x*4*y\n",
    "e3 = y*x*4"
   ]
  },
  {
   "cell_type": "code",
   "execution_count": 4,
   "id": "07e0514f",
   "metadata": {},
   "outputs": [
    {
     "name": "stdout",
     "output_type": "stream",
     "text": [
      "24\n",
      "24\n",
      "24\n"
     ]
    }
   ],
   "source": [
    "print( e1.subs({x:3, y:2}) )\n",
    "print( e2.subs({x:3, y:2}) )\n",
    "print( e3.subs({x:3, y:2}) )"
   ]
  },
  {
   "cell_type": "code",
   "execution_count": 5,
   "id": "d65c5ed8",
   "metadata": {},
   "outputs": [
    {
     "data": {
      "text/latex": [
       "$\\displaystyle a c + a d + b c + b d$"
      ],
      "text/plain": [
       "a*c + a*d + b*c + b*d"
      ]
     },
     "execution_count": 5,
     "metadata": {},
     "output_type": "execute_result"
    }
   ],
   "source": [
    "# distributive\n",
    "a, b, c, d = sym.symbols('a, b, c, d')\n",
    "\n",
    "expr = (a+b)*(c+d)\n",
    "\n",
    "sym.expand(expr)"
   ]
  },
  {
   "cell_type": "code",
   "execution_count": 6,
   "id": "da92e60e",
   "metadata": {},
   "outputs": [
    {
     "data": {
      "text/latex": [
       "$\\displaystyle a^{2} - d^{2}$"
      ],
      "text/plain": [
       "a**2 - d**2"
      ]
     },
     "execution_count": 6,
     "metadata": {},
     "output_type": "execute_result"
    }
   ],
   "source": [
    "sym.expand( (a+d)*(a-d) )"
   ]
  },
  {
   "cell_type": "code",
   "execution_count": 7,
   "id": "df204f08",
   "metadata": {},
   "outputs": [
    {
     "data": {
      "text/latex": [
       "$\\displaystyle 12 y + 4 z$"
      ],
      "text/plain": [
       "12*y + 4*z"
      ]
     },
     "metadata": {},
     "output_type": "display_data"
    }
   ],
   "source": [
    "# embedding expressions\n",
    "a,x,y,z = sym.symbols('a,x,y,z')\n",
    "\n",
    "x = 3*y + z\n",
    "a = 4*x\n",
    "\n",
    "display(a)"
   ]
  },
  {
   "cell_type": "markdown",
   "id": "7b3540ca",
   "metadata": {},
   "source": [
    "### Exercises"
   ]
  },
  {
   "cell_type": "code",
   "execution_count": 8,
   "id": "77daa45d",
   "metadata": {},
   "outputs": [
    {
     "data": {
      "text/latex": [
       "$\\displaystyle \\left(y + z\\right) \\left(w \\left(4 - w\\right) + \\frac{w + 1}{w^{2}}\\right) \\left(\\left(w \\left(4 - w\\right) + \\frac{w + 1}{w^{2}}\\right)^{2} + \\frac{3}{w \\left(4 - w\\right) + \\frac{w + 1}{w^{2}}}\\right)$"
      ],
      "text/plain": [
       "<IPython.core.display.Math object>"
      ]
     },
     "metadata": {},
     "output_type": "display_data"
    },
    {
     "data": {
      "text/latex": [
       "$\\displaystyle \\frac{\\left(3 w^{6} + \\left(- w^{3} \\left(w - 4\\right) + w + 1\\right)^{3}\\right) \\left(y + z\\right)}{w^{6}}$"
      ],
      "text/plain": [
       "<IPython.core.display.Math object>"
      ]
     },
     "metadata": {},
     "output_type": "display_data"
    },
    {
     "data": {
      "text/latex": [
       "$\\displaystyle 0$"
      ],
      "text/plain": [
       "<IPython.core.display.Math object>"
      ]
     },
     "metadata": {},
     "output_type": "display_data"
    }
   ],
   "source": [
    "# with these two expressions, show that the commutative rule applies\n",
    "\n",
    "w,x,y,z = sym.symbols('w,x,y,z')\n",
    "\n",
    "x = w*(4-w) + 1/w**2 * (1 + w)\n",
    "f1 = x*(y+z)\n",
    "f2 = 3/x + x**2\n",
    "\n",
    "display(Math(sym.latex(f1*f2)))\n",
    "display(Math(sym.latex(sym.simplify(f1*f2))))\n",
    "display(Math(sym.latex(f2*f1 - f1*f2)))"
   ]
  }
 ],
 "metadata": {
  "kernelspec": {
   "display_name": "Python 3",
   "language": "python",
   "name": "python3"
  },
  "language_info": {
   "codemirror_mode": {
    "name": "ipython",
    "version": 3
   },
   "file_extension": ".py",
   "mimetype": "text/x-python",
   "name": "python",
   "nbconvert_exporter": "python",
   "pygments_lexer": "ipython3",
   "version": "3.8.8"
  }
 },
 "nbformat": 4,
 "nbformat_minor": 5
}
