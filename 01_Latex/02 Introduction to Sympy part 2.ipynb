{
 "cells": [
  {
   "cell_type": "markdown",
   "id": "6f1e4dd1",
   "metadata": {},
   "source": [
    "# Introduction to Sympy, part 2"
   ]
  },
  {
   "cell_type": "markdown",
   "id": "67f754ab",
   "metadata": {},
   "source": [
    "- Learn more about sympy\n",
    "- How to integrate sympy and latex"
   ]
  },
  {
   "cell_type": "code",
   "execution_count": 1,
   "id": "6011fd94",
   "metadata": {},
   "outputs": [],
   "source": [
    "import sympy as sym\n",
    "from IPython.display import display, Math\n",
    "sym.init_printing()"
   ]
  },
  {
   "cell_type": "code",
   "execution_count": 2,
   "id": "3cbb1572",
   "metadata": {},
   "outputs": [],
   "source": [
    "# Greek characters for symbolic initialazation\n",
    "mu, alpha, sigma = sym.symbols('mu, alpha, sigma')"
   ]
  },
  {
   "cell_type": "code",
   "execution_count": 3,
   "id": "79638e47",
   "metadata": {},
   "outputs": [
    {
     "data": {
      "image/png": "[encoded data removed]",
      "text/latex": [
       "$\\displaystyle e^{\\frac{\\left(- \\alpha + \\mu\\right)^{2}}{2 \\sigma^{2}}}$"
      ],
      "text/plain": [
       "         2\n",
       " (-α + μ) \n",
       " ─────────\n",
       "       2  \n",
       "    2⋅σ   \n",
       "ℯ         "
      ]
     },
     "metadata": {},
     "output_type": "display_data"
    }
   ],
   "source": [
    "# use the symbols\n",
    "expr = sym.exp( (mu-alpha)**2/ (2*sigma**2) )\n",
    "\n",
    "display(expr)"
   ]
  },
  {
   "cell_type": "code",
   "execution_count": 4,
   "id": "3188c911",
   "metadata": {},
   "outputs": [
    {
     "data": {
      "image/png": "[encoded data removed]",
      "text/latex": [
       "$\\displaystyle \\frac{hello}{3}$"
      ],
      "text/plain": [
       "hello\n",
       "─────\n",
       "  3  "
      ]
     },
     "execution_count": 4,
     "metadata": {},
     "output_type": "execute_result"
    }
   ],
   "source": [
    "# can also use longer and more informative variable names\n",
    "hello = sym.symbols('hello')\n",
    "\n",
    "hello/3"
   ]
  },
  {
   "cell_type": "code",
   "execution_count": 5,
   "id": "1dcf98f3",
   "metadata": {},
   "outputs": [
    {
     "data": {
      "image/png": "[encoded data removed]",
      "text/latex": [
       "$\\displaystyle 2^{y} + x + 4$"
      ],
      "text/plain": [
       " y        \n",
       "2  + x + 4"
      ]
     },
     "metadata": {},
     "output_type": "display_data"
    },
    {
     "data": {
      "image/png": "[encoded data removed]",
      "text/latex": [
       "$\\displaystyle 38$"
      ],
      "text/plain": [
       "38"
      ]
     },
     "execution_count": 5,
     "metadata": {},
     "output_type": "execute_result"
    }
   ],
   "source": [
    "# substituting numbers for variables\n",
    "x,y = sym.symbols('x,y')\n",
    "\n",
    "# don't forget to define variables before using them!!\n",
    "\n",
    "expr = x+4+2**y\n",
    "display(expr)\n",
    "\n",
    "# replace the symbols\n",
    "expr.subs({x: 2, y:5})"
   ]
  },
  {
   "cell_type": "code",
   "execution_count": 6,
   "id": "55529be4",
   "metadata": {},
   "outputs": [
    {
     "name": "stdout",
     "output_type": "stream",
     "text": [
      "\\frac{3}{x}\n",
      "--- notice ----\n",
      "0.75\n"
     ]
    },
    {
     "data": {
      "text/latex": [
       "$\\displaystyle 0.75$"
      ],
      "text/plain": [
       "<IPython.core.display.Math object>"
      ]
     },
     "metadata": {},
     "output_type": "display_data"
    },
    {
     "name": "stdout",
     "output_type": "stream",
     "text": [
      "--- and ----\n",
      "\\mathtt{\\text{3/4}}\n"
     ]
    },
    {
     "data": {
      "text/latex": [
       "$\\displaystyle \\mathtt{\\text{3/4}}$"
      ],
      "text/plain": [
       "<IPython.core.display.Math object>"
      ]
     },
     "metadata": {},
     "output_type": "display_data"
    },
    {
     "name": "stdout",
     "output_type": "stream",
     "text": [
      "--- but ----\n",
      "\\frac{3}{4}\n"
     ]
    },
    {
     "data": {
      "text/latex": [
       "$\\displaystyle \\frac{3}{4}$"
      ],
      "text/plain": [
       "<IPython.core.display.Math object>"
      ]
     },
     "metadata": {},
     "output_type": "display_data"
    }
   ],
   "source": [
    "# using sympy to print latex code\n",
    "expr = 3/x\n",
    "\n",
    "print( sym.latex(expr) )\n",
    "\n",
    "print('--- notice ----')\n",
    "\n",
    "print( sym.latex(3/4) )\n",
    "display(Math(sym.latex(3/4)))\n",
    "\n",
    "print('--- and ----')\n",
    "\n",
    "print( sym.latex('3/4') )\n",
    "display(Math(sym.latex('3/4')))\n",
    "\n",
    "print('--- but ----')\n",
    "print( sym.latex(sym.sympify('3/4')) )\n",
    "display(Math( sym.latex(sym.sympify('3/4')) ))"
   ]
  },
  {
   "cell_type": "markdown",
   "id": "aee117e5",
   "metadata": {},
   "source": [
    "### Exercises"
   ]
  },
  {
   "cell_type": "code",
   "execution_count": 7,
   "id": "0aac56cf",
   "metadata": {},
   "outputs": [
    {
     "data": {
      "text/latex": [
       "$\\displaystyle \\text{With x = } -2 : x^{2} + 4 \\Rightarrow -2^{2} + 4 = 8$"
      ],
      "text/plain": [
       "<IPython.core.display.Math object>"
      ]
     },
     "metadata": {},
     "output_type": "display_data"
    },
    {
     "data": {
      "text/latex": [
       "$\\displaystyle \\text{With x = } -1 : x^{2} + 4 \\Rightarrow -1^{2} + 4 = 5$"
      ],
      "text/plain": [
       "<IPython.core.display.Math object>"
      ]
     },
     "metadata": {},
     "output_type": "display_data"
    },
    {
     "data": {
      "text/latex": [
       "$\\displaystyle \\text{With x = } 0 : x^{2} + 4 \\Rightarrow 0^{2} + 4 = 4$"
      ],
      "text/plain": [
       "<IPython.core.display.Math object>"
      ]
     },
     "metadata": {},
     "output_type": "display_data"
    },
    {
     "data": {
      "text/latex": [
       "$\\displaystyle \\text{With x = } 1 : x^{2} + 4 \\Rightarrow 1^{2} + 4 = 5$"
      ],
      "text/plain": [
       "<IPython.core.display.Math object>"
      ]
     },
     "metadata": {},
     "output_type": "display_data"
    },
    {
     "data": {
      "text/latex": [
       "$\\displaystyle \\text{With x = } 2 : x^{2} + 4 \\Rightarrow 2^{2} + 4 = 8$"
      ],
      "text/plain": [
       "<IPython.core.display.Math object>"
      ]
     },
     "metadata": {},
     "output_type": "display_data"
    }
   ],
   "source": [
    "#initialize symbols\n",
    "x = sym.symbols('x')\n",
    "\n",
    "expr = x**2 + 4\n",
    "\n",
    "for index in range(-2,3):\n",
    "    display(Math('\\\\text{With x = } %g : x^{2} + 4 \\\\Rightarrow %g^{2} + 4 = %g' %(index, index, expr.subs({x: index}))))"
   ]
  }
 ],
 "metadata": {
  "kernelspec": {
   "display_name": "Python 3",
   "language": "python",
   "name": "python3"
  },
  "language_info": {
   "codemirror_mode": {
    "name": "ipython",
    "version": 3
   },
   "file_extension": ".py",
   "mimetype": "text/x-python",
   "name": "python",
   "nbconvert_exporter": "python",
   "pygments_lexer": "ipython3",
   "version": "3.8.8"
  }
 },
 "nbformat": 4,
 "nbformat_minor": 5
}
