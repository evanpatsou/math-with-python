{
 "cells": [
  {
   "cell_type": "markdown",
   "id": "d4f2ead3",
   "metadata": {},
   "source": [
    "# Summation and products\n",
    "\n",
    "- Have a reminder about lists in Python\n",
    "- Learn how to compute sums and products\n",
    "- Learn what a cumulative sum means"
   ]
  },
  {
   "cell_type": "code",
   "execution_count": 1,
   "id": "378f9524",
   "metadata": {},
   "outputs": [],
   "source": [
    "import numpy as np\n",
    "import matplotlib.pyplot as plt"
   ]
  },
  {
   "cell_type": "code",
   "execution_count": 2,
   "id": "4309f50f",
   "metadata": {},
   "outputs": [
    {
     "name": "stdout",
     "output_type": "stream",
     "text": [
      "15\n",
      "15\n"
     ]
    }
   ],
   "source": [
    "lst = [1,3,4,1,6]\n",
    "\n",
    "print(sum(lst)) # 1 + 3 + 4 + 1 + 6 = 15\n",
    "print(np.sum(lst)) "
   ]
  },
  {
   "cell_type": "code",
   "execution_count": 3,
   "id": "77454193",
   "metadata": {},
   "outputs": [
    {
     "data": {
      "text/plain": [
       "72"
      ]
     },
     "execution_count": 3,
     "metadata": {},
     "output_type": "execute_result"
    }
   ],
   "source": [
    "np.prod(lst) # 1 * 3 * 4 * 1 * 6 = 72"
   ]
  },
  {
   "cell_type": "code",
   "execution_count": 4,
   "id": "358e25d6",
   "metadata": {},
   "outputs": [
    {
     "data": {
      "text/plain": [
       "array([ 1,  4,  8,  9, 15])"
      ]
     },
     "execution_count": 4,
     "metadata": {},
     "output_type": "execute_result"
    }
   ],
   "source": [
    "# 1 = 1\n",
    "# 1 + 3 = 4\n",
    "# 1 + 3 + 4 = 8\n",
    "# ...\n",
    "\n",
    "np.cumsum(lst)\n"
   ]
  },
  {
   "cell_type": "code",
   "execution_count": 5,
   "id": "fae44746",
   "metadata": {},
   "outputs": [
    {
     "data": {
      "image/png": "[encoded data removed]",
      "text/plain": [
       "<Figure size 432x288 with 1 Axes>"
      ]
     },
     "metadata": {
      "needs_background": "light"
     },
     "output_type": "display_data"
    }
   ],
   "source": [
    "plt.plot(lst,'rs-')\n",
    "plt.plot(np.cumsum(lst),'bo-')\n",
    "plt.legend({'list','cumsum'})\n",
    "plt.show()"
   ]
  },
  {
   "cell_type": "markdown",
   "id": "625c1a7f",
   "metadata": {},
   "source": [
    "### Exercise"
   ]
  },
  {
   "cell_type": "code",
   "execution_count": 10,
   "id": "2233f16c",
   "metadata": {},
   "outputs": [
    {
     "name": "stdout",
     "output_type": "stream",
     "text": [
      "False\n",
      "True\n"
     ]
    }
   ],
   "source": [
    "a = [1,2,3,4,5]\n",
    "a_2 = [num**2 for num in a]\n",
    "\n",
    "# 1)\n",
    "eq1 = np.sum(a)/np.sum(a_2) - 1/np.sum(a)\n",
    "print(eq1 == 0)\n",
    "\n",
    "# 2)\n",
    "eq2 = np.prod(a)/np.prod(a_2) - 1/np.prod(a)\n",
    "print(eq2 == 0)"
   ]
  }
 ],
 "metadata": {
  "kernelspec": {
   "display_name": "Python 3 (ipykernel)",
   "language": "python",
   "name": "python3"
  },
  "language_info": {
   "codemirror_mode": {
    "name": "ipython",
    "version": 3
   },
   "file_extension": ".py",
   "mimetype": "text/x-python",
   "name": "python",
   "nbconvert_exporter": "python",
   "pygments_lexer": "ipython3",
   "version": "3.8.10"
  }
 },
 "nbformat": 4,
 "nbformat_minor": 5
}
