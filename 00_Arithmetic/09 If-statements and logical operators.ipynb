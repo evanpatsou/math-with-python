{
 "cells": [
  {
   "cell_type": "markdown",
   "id": "7bffde48",
   "metadata": {},
   "source": [
    "# If-statements and logical operators"
   ]
  },
  {
   "cell_type": "markdown",
   "id": "9c193560",
   "metadata": {},
   "source": [
    "- Learn how to use and interpret if statements in Python\n",
    "- Learn to use AND, OR logical operations"
   ]
  },
  {
   "cell_type": "code",
   "execution_count": 1,
   "id": "7a584904",
   "metadata": {},
   "outputs": [
    {
     "name": "stdout",
     "output_type": "stream",
     "text": [
      "True!\n"
     ]
    }
   ],
   "source": [
    "# start with basics:\n",
    "if 4+2 == 6:\n",
    "    print('True!') # This is indented so its part of if statement\n",
    "else:\n",
    "    print('Nope!') # This is indented so its part of else statement"
   ]
  },
  {
   "cell_type": "code",
   "execution_count": 2,
   "id": "3377b20f",
   "metadata": {},
   "outputs": [
    {
     "name": "stdout",
     "output_type": "stream",
     "text": [
      "5 is greater than 4\n"
     ]
    }
   ],
   "source": [
    "# using variables\n",
    "\n",
    "x1 = 5\n",
    "x2 = 4\n",
    "\n",
    "if x1>x2:\n",
    "    print('%g is greater than %g' %(x1,x2))\n",
    "elif x1<x2:\n",
    "    print('%g is greater than %g' %(x2,x1))\n",
    "else:\n",
    "    print('%g is equal to %g' %(x1,x2))\n"
   ]
  },
  {
   "cell_type": "code",
   "execution_count": 3,
   "id": "fc9bfcb8",
   "metadata": {},
   "outputs": [
    {
     "name": "stdout",
     "output_type": "stream",
     "text": [
      "the second thing\n"
     ]
    }
   ],
   "source": [
    "# with logical operators\n",
    "\n",
    "x = 1\n",
    "y = 4\n",
    "z = 3\n",
    "\n",
    "if x+y<z or x-z>y:\n",
    "    print('Yeah, the first thing.')\n",
    "elif 2*x+y>z and 2*z-x>y:\n",
    "    print('the second thing')"
   ]
  },
  {
   "cell_type": "markdown",
   "id": "4dbaf8e4",
   "metadata": {},
   "source": [
    "### Exercise"
   ]
  },
  {
   "cell_type": "code",
   "execution_count": 6,
   "id": "a796b68e",
   "metadata": {},
   "outputs": [],
   "source": [
    "from IPython.display import display, Math"
   ]
  },
  {
   "cell_type": "code",
   "execution_count": null,
   "id": "dc9a0c88",
   "metadata": {},
   "outputs": [],
   "source": [
    "for i in range(0,4):\n",
    "    for j in range (0,5):\n",
    "        if i > "
   ]
  }
 ],
 "metadata": {
  "kernelspec": {
   "display_name": "Python 3",
   "language": "python",
   "name": "python3"
  },
  "language_info": {
   "codemirror_mode": {
    "name": "ipython",
    "version": 3
   },
   "file_extension": ".py",
   "mimetype": "text/x-python",
   "name": "python",
   "nbconvert_exporter": "python",
   "pygments_lexer": "ipython3",
   "version": "3.8.8"
  }
 },
 "nbformat": 4,
 "nbformat_minor": 5
}
