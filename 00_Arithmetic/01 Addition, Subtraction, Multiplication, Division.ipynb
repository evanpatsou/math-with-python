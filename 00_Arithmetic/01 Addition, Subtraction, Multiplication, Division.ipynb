{
 "cells": [
  {
   "cell_type": "markdown",
   "id": "d6792755",
   "metadata": {},
   "source": [
    "# Addition, subtraction, multiplication, division"
   ]
  },
  {
   "cell_type": "markdown",
   "id": "5f7a05ba",
   "metadata": {},
   "source": [
    "#### Addition"
   ]
  },
  {
   "cell_type": "code",
   "execution_count": 1,
   "id": "a7a71d95",
   "metadata": {},
   "outputs": [
    {
     "data": {
      "text/plain": [
       "12"
      ]
     },
     "execution_count": 1,
     "metadata": {},
     "output_type": "execute_result"
    }
   ],
   "source": [
    "4+8"
   ]
  },
  {
   "cell_type": "code",
   "execution_count": 2,
   "id": "274e39d5",
   "metadata": {},
   "outputs": [
    {
     "data": {
      "text/plain": [
       "10"
      ]
     },
     "execution_count": 2,
     "metadata": {},
     "output_type": "execute_result"
    }
   ],
   "source": [
    "4 + 1 + 5"
   ]
  },
  {
   "cell_type": "markdown",
   "id": "23505561",
   "metadata": {},
   "source": [
    "#### Subtraction"
   ]
  },
  {
   "cell_type": "code",
   "execution_count": 3,
   "id": "30c65dfa",
   "metadata": {},
   "outputs": [
    {
     "data": {
      "text/plain": [
       "27"
      ]
     },
     "execution_count": 3,
     "metadata": {},
     "output_type": "execute_result"
    }
   ],
   "source": [
    "30 - 3"
   ]
  },
  {
   "cell_type": "markdown",
   "id": "44811d6c",
   "metadata": {},
   "source": [
    "#### Multiplication"
   ]
  },
  {
   "cell_type": "code",
   "execution_count": 4,
   "id": "1ec373f7",
   "metadata": {},
   "outputs": [
    {
     "data": {
      "text/plain": [
       "2"
      ]
     },
     "execution_count": 4,
     "metadata": {},
     "output_type": "execute_result"
    }
   ],
   "source": [
    "# Use * to indicate multiplication (not x!)\n",
    "2*1 "
   ]
  },
  {
   "cell_type": "code",
   "execution_count": 5,
   "id": "1e75f8fa",
   "metadata": {},
   "outputs": [
    {
     "data": {
      "text/plain": [
       "6"
      ]
     },
     "execution_count": 5,
     "metadata": {},
     "output_type": "execute_result"
    }
   ],
   "source": [
    "# can mix operations\n",
    "3*4 - 3*2"
   ]
  },
  {
   "cell_type": "markdown",
   "id": "5486f3db",
   "metadata": {},
   "source": [
    "#### Division"
   ]
  },
  {
   "cell_type": "code",
   "execution_count": 6,
   "id": "c42ed353",
   "metadata": {},
   "outputs": [
    {
     "data": {
      "text/plain": [
       "2.0"
      ]
     },
     "execution_count": 6,
     "metadata": {},
     "output_type": "execute_result"
    }
   ],
   "source": [
    "4/2"
   ]
  },
  {
   "cell_type": "code",
   "execution_count": 7,
   "id": "bcd0e2c0",
   "metadata": {},
   "outputs": [
    {
     "ename": "SyntaxError",
     "evalue": "unexpected character after line continuation character (<ipython-input-7-98e174cbfd99>, line 2)",
     "output_type": "error",
     "traceback": [
      "\u001b[1;36m  File \u001b[1;32m\"<ipython-input-7-98e174cbfd99>\"\u001b[1;36m, line \u001b[1;32m2\u001b[0m\n\u001b[1;33m    3\\4\u001b[0m\n\u001b[1;37m       ^\u001b[0m\n\u001b[1;31mSyntaxError\u001b[0m\u001b[1;31m:\u001b[0m unexpected character after line continuation character\n"
     ]
    }
   ],
   "source": [
    "# error! Always use the forward slash\n",
    "3\\4"
   ]
  },
  {
   "cell_type": "markdown",
   "id": "5142893c",
   "metadata": {},
   "source": [
    "### Exercises!"
   ]
  },
  {
   "cell_type": "code",
   "execution_count": null,
   "id": "12a6c301",
   "metadata": {},
   "outputs": [],
   "source": [
    "# 1)\n",
    "5 - (2/4) * (3/5)"
   ]
  },
  {
   "cell_type": "code",
   "execution_count": null,
   "id": "08746698",
   "metadata": {},
   "outputs": [],
   "source": [
    "(4-5)/(3+5*6)"
   ]
  }
 ],
 "metadata": {
  "kernelspec": {
   "display_name": "Python 3",
   "language": "python",
   "name": "python3"
  },
  "language_info": {
   "codemirror_mode": {
    "name": "ipython",
    "version": 3
   },
   "file_extension": ".py",
   "mimetype": "text/x-python",
   "name": "python",
   "nbconvert_exporter": "python",
   "pygments_lexer": "ipython3",
   "version": "3.8.8"
  }
 },
 "nbformat": 4,
 "nbformat_minor": 5
}
