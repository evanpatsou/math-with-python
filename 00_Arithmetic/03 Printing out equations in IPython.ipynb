{
 "cells": [
  {
   "cell_type": "markdown",
   "id": "c4fdae27",
   "metadata": {},
   "source": [
    "# Printing out equations in IPython"
   ]
  },
  {
   "cell_type": "code",
   "execution_count": 1,
   "id": "3b32f9a4",
   "metadata": {},
   "outputs": [
    {
     "data": {
      "text/plain": [
       "'4 + 3 = 7'"
      ]
     },
     "metadata": {},
     "output_type": "display_data"
    },
    {
     "data": {
      "text/plain": [
       "'4 + 3 = 7'"
      ]
     },
     "metadata": {},
     "output_type": "display_data"
    }
   ],
   "source": [
    "# the line below will import special functions that are not otherwise available in the main Python environment\n",
    "from IPython.display import display, Math\n",
    "\n",
    "display('4 + 3 = 7')\n",
    "\n",
    "display('4 + 3 = ' + str(4+3))"
   ]
  },
  {
   "cell_type": "code",
   "execution_count": 2,
   "id": "15c0f4c1",
   "metadata": {},
   "outputs": [
    {
     "data": {
      "text/plain": [
       "'10+5-15 = 0'"
      ]
     },
     "metadata": {},
     "output_type": "display_data"
    },
    {
     "data": {
      "text/latex": [
       "$\\displaystyle 10+5-15 = 0$"
      ],
      "text/plain": [
       "<IPython.core.display.Math object>"
      ]
     },
     "metadata": {},
     "output_type": "display_data"
    }
   ],
   "source": [
    "# can also use string variables for printing\n",
    "expr = '10+5-15 = 0'\n",
    "\n",
    "display(expr)\n",
    "display(Math(expr)) # note that this line produces slightly nicer output"
   ]
  },
  {
   "cell_type": "code",
   "execution_count": 3,
   "id": "44e8da32",
   "metadata": {},
   "outputs": [
    {
     "data": {
      "text/latex": [
       "$\\displaystyle 4 + 5 = 9$"
      ],
      "text/plain": [
       "<IPython.core.display.Math object>"
      ]
     },
     "metadata": {},
     "output_type": "display_data"
    }
   ],
   "source": [
    "# mixing variable types in outputs\n",
    "x = 4\n",
    "y = 5\n",
    "\n",
    "display(Math( str(x) + ' + ' + str(y) + ' = ' + str(x+y) )) # note: plus sign here is for concatenating strings, not for summing!"
   ]
  },
  {
   "cell_type": "code",
   "execution_count": 4,
   "id": "2d887731",
   "metadata": {},
   "outputs": [
    {
     "data": {
      "text/latex": [
       "$\\displaystyle 4 + 5 = 9$"
      ],
      "text/plain": [
       "<IPython.core.display.Math object>"
      ]
     },
     "metadata": {},
     "output_type": "display_data"
    }
   ],
   "source": [
    "# We can produce the same output by using the following notation\n",
    "display(Math( '%g + %g = %g' %(x, y, x+y)))"
   ]
  },
  {
   "cell_type": "markdown",
   "id": "b1216e91",
   "metadata": {},
   "source": [
    "#### A brief intro to Latex"
   ]
  },
  {
   "cell_type": "code",
   "execution_count": 5,
   "id": "83837104",
   "metadata": {},
   "outputs": [
    {
     "data": {
      "text/latex": [
       "$\\displaystyle 4/5 = .8$"
      ],
      "text/plain": [
       "<IPython.core.display.Math object>"
      ]
     },
     "metadata": {},
     "output_type": "display_data"
    },
    {
     "data": {
      "text/latex": [
       "$\\displaystyle \\frac{4}{5} = 0.8$"
      ],
      "text/plain": [
       "<IPython.core.display.Math object>"
      ]
     },
     "metadata": {},
     "output_type": "display_data"
    }
   ],
   "source": [
    "# without using latex\n",
    "display(Math('4/5 = .8'))\n",
    "\n",
    "# with latex (much nicer!)\n",
    "display(Math('\\\\frac{4}{5} = ' + str(4/5)))"
   ]
  },
  {
   "cell_type": "code",
   "execution_count": 6,
   "id": "3864222f",
   "metadata": {},
   "outputs": [
    {
     "data": {
      "text/latex": [
       "$\\displaystyle 3.4 \\times 17 = 57.8$"
      ],
      "text/plain": [
       "<IPython.core.display.Math object>"
      ]
     },
     "metadata": {},
     "output_type": "display_data"
    }
   ],
   "source": [
    "# mix it up\n",
    "x = 3.4\n",
    "y = 17\n",
    "\n",
    "display(Math('%g \\\\times %g = %g' %(x, y, x*y)))"
   ]
  },
  {
   "cell_type": "markdown",
   "id": "3abac6c1",
   "metadata": {},
   "source": [
    "### Exercises"
   ]
  },
  {
   "cell_type": "code",
   "execution_count": 7,
   "id": "d02b2767",
   "metadata": {},
   "outputs": [
    {
     "data": {
      "text/latex": [
       "$\\displaystyle 3 \\times x \\times (4 + y) = 42$"
      ],
      "text/plain": [
       "<IPython.core.display.Math object>"
      ]
     },
     "metadata": {},
     "output_type": "display_data"
    },
    {
     "data": {
      "text/latex": [
       "$\\displaystyle -y - \\frac{x + 3}{z} = 0$"
      ],
      "text/plain": [
       "<IPython.core.display.Math object>"
      ]
     },
     "metadata": {},
     "output_type": "display_data"
    }
   ],
   "source": [
    "# Initialize three variables\n",
    "\n",
    "x = 7\n",
    "y = -2\n",
    "z = 5\n",
    "\n",
    "# 1)\n",
    "display(Math('%g \\\\times x \\\\times (%g + y) = %g' %(3, 4, ( 3*x*(4+y) ))))\n",
    "\n",
    "# 2\n",
    "display(Math('-y - \\\\frac{x + %g}{z} = %g' %(3, ( -y - (x+3)/z )) ))"
   ]
  }
 ],
 "metadata": {
  "kernelspec": {
   "display_name": "Python 3",
   "language": "python",
   "name": "python3"
  },
  "language_info": {
   "codemirror_mode": {
    "name": "ipython",
    "version": 3
   },
   "file_extension": ".py",
   "mimetype": "text/x-python",
   "name": "python",
   "nbconvert_exporter": "python",
   "pygments_lexer": "ipython3",
   "version": "3.8.8"
  }
 },
 "nbformat": 4,
 "nbformat_minor": 5
}
