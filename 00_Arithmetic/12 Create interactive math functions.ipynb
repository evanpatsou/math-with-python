{
 "cells": [
  {
   "cell_type": "markdown",
   "id": "0d6eea69",
   "metadata": {},
   "source": [
    "# Create interactive math functions"
   ]
  },
  {
   "cell_type": "code",
   "execution_count": 1,
   "id": "77a5566a",
   "metadata": {},
   "outputs": [],
   "source": [
    "from IPython.display import display, Math"
   ]
  },
  {
   "cell_type": "code",
   "execution_count": 2,
   "id": "fa5e27d7",
   "metadata": {},
   "outputs": [],
   "source": [
    "# To create a function you need to type def keyword\n",
    "# the name of the function and optionally some variables\n",
    "def myFunc(name):\n",
    "    print('Hello {}.'.format(name))"
   ]
  },
  {
   "cell_type": "code",
   "execution_count": 3,
   "id": "611963b7",
   "metadata": {},
   "outputs": [
    {
     "name": "stdout",
     "output_type": "stream",
     "text": [
      "Hello Evangelos.\n"
     ]
    }
   ],
   "source": [
    "myFunc('Evangelos')"
   ]
  },
  {
   "cell_type": "code",
   "execution_count": 4,
   "id": "1478e304",
   "metadata": {},
   "outputs": [
    {
     "data": {
      "text/plain": [
       "3"
      ]
     },
     "execution_count": 4,
     "metadata": {},
     "output_type": "execute_result"
    }
   ],
   "source": [
    "int(3.2)"
   ]
  },
  {
   "cell_type": "code",
   "execution_count": 5,
   "id": "964c02c9",
   "metadata": {},
   "outputs": [],
   "source": [
    "# create a function that takes two numbers and reports the numbers, their integer division, and remainder\n",
    "\n",
    "# define the function\n",
    "def computeremainder(x,y):\n",
    "    division  = int( x/y )\n",
    "    remainder = x%y\n",
    "    \n",
    "    print(\"%g goes into %g, %g times with a remainder of %g.\" %(y,x,division,remainder))\n"
   ]
  },
  {
   "cell_type": "code",
   "execution_count": 6,
   "id": "e80ad294",
   "metadata": {},
   "outputs": [
    {
     "name": "stdout",
     "output_type": "stream",
     "text": [
      "3 goes into 10, 3 times with a remainder of 1.\n"
     ]
    }
   ],
   "source": [
    "computeremainder(10,3)"
   ]
  },
  {
   "cell_type": "code",
   "execution_count": 7,
   "id": "affe113a",
   "metadata": {},
   "outputs": [],
   "source": [
    "# create a function that inputs two numbers and reports the numbers, their integer division, and remainder\n",
    "\n",
    "# define the function\n",
    "def divisionWithInput():\n",
    "    x = int( input('Input numerator: ') )\n",
    "    y = int( input('Input denominator: ') )\n",
    "    division  = int( x/y )\n",
    "    remainder = x%y\n",
    "    \n",
    "    print(\"%g goes into %g, %g times with a remainder of %g.\" %(y,x,division,remainder))"
   ]
  },
  {
   "cell_type": "code",
   "execution_count": 8,
   "id": "dd4c53dc",
   "metadata": {},
   "outputs": [
    {
     "name": "stdout",
     "output_type": "stream",
     "text": [
      "Input numerator: 2\n",
      "Input denominator: 3\n",
      "3 goes into 2, 0 times with a remainder of 2.\n"
     ]
    }
   ],
   "source": [
    "# now test the function!\n",
    "divisionWithInput()"
   ]
  },
  {
   "cell_type": "code",
   "execution_count": 9,
   "id": "0a63e641",
   "metadata": {},
   "outputs": [],
   "source": [
    "# create a function that takes two numbers as input, \n",
    "# and returns the larger-magnitude number to the power of the smaller-magnitude number\n",
    "\n",
    "def powerfun():\n",
    "    n1 = int( input('Input one number ') )\n",
    "    n2 = int( input('Input a second number ') )\n",
    "    \n",
    "    # test\n",
    "    if abs(n1)>abs(n2):\n",
    "        return n1,n2,n1**n2\n",
    "    else:\n",
    "        return n2,n1,n2**n1\n"
   ]
  },
  {
   "cell_type": "code",
   "execution_count": 10,
   "id": "d6e9911c",
   "metadata": {},
   "outputs": [
    {
     "name": "stdout",
     "output_type": "stream",
     "text": [
      "Input one number 3\n",
      "Input a second number 3\n"
     ]
    },
    {
     "data": {
      "text/latex": [
       "$\\displaystyle 3^{3} = 27 $"
      ],
      "text/plain": [
       "<IPython.core.display.Math object>"
      ]
     },
     "metadata": {},
     "output_type": "display_data"
    }
   ],
   "source": [
    "# now test the function\n",
    "first,second,outcome = powerfun()\n",
    "\n",
    "display(Math('%g^{%g} = %g '%(first,second,outcome)))\n"
   ]
  },
  {
   "cell_type": "markdown",
   "id": "22de7794",
   "metadata": {},
   "source": [
    "### Challenge"
   ]
  },
  {
   "cell_type": "code",
   "execution_count": 16,
   "id": "f55b722c",
   "metadata": {},
   "outputs": [],
   "source": [
    "def menu(x, y):\n",
    "    display(Math('\\\\text{Press \"1\" to compute } %g^{%g}\\\\text{ or \"2\" to compute }\\\\frac{%g}{%g}' %(x,y,x,y)))\n",
    "    selection = int(input(' '))\n",
    "    \n",
    "    return selection\n",
    "\n",
    "def powers(x,y):\n",
    "    display(Math('%g^{%g} = %g' %(x,y,x**y)))\n",
    "\n",
    "def division(x,y):\n",
    "    display(Math('\\\\frac{%g}{%g} = %g' %(x,y,x/y)))\n",
    "    \n",
    "def challenge():\n",
    "    x = int(input(\"input X: \"))\n",
    "    y = int(input(\"input Y: \"))\n",
    "    \n",
    "    selection = menu(x, y)\n",
    "    \n",
    "    while selection > 2 or selection < 1:\n",
    "        print(\"Invalid selection!\")\n",
    "        selection = menu(x, y)\n",
    "        \n",
    "    if selection == 1:\n",
    "        power(x,y)\n",
    "    else:\n",
    "        division(x,y)\n",
    "    "
   ]
  },
  {
   "cell_type": "code",
   "execution_count": 18,
   "id": "e1f4489c",
   "metadata": {},
   "outputs": [
    {
     "name": "stdout",
     "output_type": "stream",
     "text": [
      "input X: 2\n",
      "input Y: 4\n"
     ]
    },
    {
     "data": {
      "text/latex": [
       "$\\displaystyle \\text{Press \"1\" to compute } 2^{4}\\text{ or \"2\" to compute }\\frac{2}{4}$"
      ],
      "text/plain": [
       "<IPython.core.display.Math object>"
      ]
     },
     "metadata": {},
     "output_type": "display_data"
    },
    {
     "name": "stdout",
     "output_type": "stream",
     "text": [
      " 2\n"
     ]
    },
    {
     "data": {
      "text/latex": [
       "$\\displaystyle \\frac{2}{4} = 0.5$"
      ],
      "text/plain": [
       "<IPython.core.display.Math object>"
      ]
     },
     "metadata": {},
     "output_type": "display_data"
    }
   ],
   "source": [
    "challenge()"
   ]
  },
  {
   "cell_type": "code",
   "execution_count": 19,
   "id": "2a7d5508",
   "metadata": {},
   "outputs": [],
   "source": [
    "## Challenge number 2\n",
    "import random\n",
    "randomNum = random.randint(0,101)\n",
    "\n",
    "def menu():\n",
    "    return int(input('Guess a number between 1 and 100'))\n",
    "\n",
    "def challengeNo2():\n",
    "    guess = menu()\n",
    "    \n",
    "    while guess > 100 or guess < 1:\n",
    "        print('Invalid selection!')\n",
    "        guess = menu()\n",
    "        \n",
    "    while guess != randomNum:\n",
    "        if guess > randomNum:\n",
    "            print('Guess lower!')\n",
    "        elif guess < randomNum:\n",
    "            print('Guess higher!')\n",
    "        \n",
    "        guess = int( input('Guess again ') )\n",
    "        \n",
    "    print('You got it!')"
   ]
  },
  {
   "cell_type": "code",
   "execution_count": 20,
   "id": "9f52fa55",
   "metadata": {},
   "outputs": [
    {
     "name": "stdout",
     "output_type": "stream",
     "text": [
      "Guess a number between 1 and 1005\n",
      "Guess higher!\n",
      "Guess again 20\n",
      "Guess higher!\n",
      "Guess again 30\n",
      "Guess lower!\n",
      "Guess again 25\n",
      "Guess higher!\n",
      "Guess again 26\n",
      "Guess higher!\n",
      "Guess again 27\n",
      "Guess higher!\n",
      "Guess again 28\n",
      "You got it!\n"
     ]
    }
   ],
   "source": [
    "challengeNo2()"
   ]
  },
  {
   "cell_type": "code",
   "execution_count": null,
   "id": "d0a13535",
   "metadata": {},
   "outputs": [],
   "source": []
  }
 ],
 "metadata": {
  "kernelspec": {
   "display_name": "Python 3",
   "language": "python",
   "name": "python3"
  },
  "language_info": {
   "codemirror_mode": {
    "name": "ipython",
    "version": 3
   },
   "file_extension": ".py",
   "mimetype": "text/x-python",
   "name": "python",
   "nbconvert_exporter": "python",
   "pygments_lexer": "ipython3",
   "version": "3.8.8"
  }
 },
 "nbformat": 4,
 "nbformat_minor": 5
}
