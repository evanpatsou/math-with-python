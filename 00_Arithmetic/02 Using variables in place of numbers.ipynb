{
 "cells": [
  {
   "cell_type": "markdown",
   "id": "e5880770",
   "metadata": {},
   "source": [
    "# Using variables in place of numbers"
   ]
  },
  {
   "cell_type": "code",
   "execution_count": 1,
   "id": "770ae5d6",
   "metadata": {},
   "outputs": [],
   "source": [
    "# create a variable by assigning a number to it\n",
    "x = 3"
   ]
  },
  {
   "cell_type": "code",
   "execution_count": 2,
   "id": "39c995d0",
   "metadata": {},
   "outputs": [
    {
     "data": {
      "text/plain": [
       "1"
      ]
     },
     "execution_count": 2,
     "metadata": {},
     "output_type": "execute_result"
    }
   ],
   "source": [
    "# then use that variable in place of a number\n",
    "x - 2\n",
    "# It doesn't print anything, we ask python just to set a variable."
   ]
  },
  {
   "cell_type": "code",
   "execution_count": 3,
   "id": "b73d1e4c",
   "metadata": {},
   "outputs": [],
   "source": [
    "# reassign the variable as we like\n",
    "x = 4"
   ]
  },
  {
   "cell_type": "code",
   "execution_count": 4,
   "id": "b6cef571",
   "metadata": {},
   "outputs": [
    {
     "data": {
      "text/plain": [
       "2"
      ]
     },
     "execution_count": 4,
     "metadata": {},
     "output_type": "execute_result"
    }
   ],
   "source": [
    "x - 2"
   ]
  },
  {
   "cell_type": "code",
   "execution_count": 5,
   "id": "9a57a4ba",
   "metadata": {},
   "outputs": [
    {
     "data": {
      "text/plain": [
       "-16"
      ]
     },
     "execution_count": 5,
     "metadata": {},
     "output_type": "execute_result"
    }
   ],
   "source": [
    "# you can even use a variable to reassign itself!\n",
    "x = x-4*5\n",
    "x"
   ]
  },
  {
   "cell_type": "code",
   "execution_count": 6,
   "id": "a71b0519",
   "metadata": {},
   "outputs": [],
   "source": [
    "# multiple variables can be really useful\n",
    "x = 10\n",
    "y = 20"
   ]
  },
  {
   "cell_type": "code",
   "execution_count": 7,
   "id": "6cdb6a07",
   "metadata": {},
   "outputs": [
    {
     "data": {
      "text/plain": [
       "200"
      ]
     },
     "execution_count": 7,
     "metadata": {},
     "output_type": "execute_result"
    }
   ],
   "source": [
    "x * y"
   ]
  },
  {
   "cell_type": "code",
   "execution_count": 8,
   "id": "cc531385",
   "metadata": {},
   "outputs": [
    {
     "ename": "NameError",
     "evalue": "name 'z' is not defined",
     "output_type": "error",
     "traceback": [
      "\u001b[1;31m---------------------------------------------------------------------------\u001b[0m",
      "\u001b[1;31mNameError\u001b[0m                                 Traceback (most recent call last)",
      "\u001b[1;32m<ipython-input-8-58bc303629f4>\u001b[0m in \u001b[0;36m<module>\u001b[1;34m\u001b[0m\n\u001b[0;32m      1\u001b[0m \u001b[1;31m# if you dont define a variable it will throw an error message\u001b[0m\u001b[1;33m\u001b[0m\u001b[1;33m\u001b[0m\u001b[1;33m\u001b[0m\u001b[0m\n\u001b[1;32m----> 2\u001b[1;33m \u001b[0mx\u001b[0m \u001b[1;33m+\u001b[0m \u001b[0mz\u001b[0m\u001b[1;33m\u001b[0m\u001b[1;33m\u001b[0m\u001b[0m\n\u001b[0m",
      "\u001b[1;31mNameError\u001b[0m: name 'z' is not defined"
     ]
    }
   ],
   "source": [
    "# if you dont define a variable it will throw an error message\n",
    "x + z"
   ]
  },
  {
   "cell_type": "code",
   "execution_count": 9,
   "id": "43fce932",
   "metadata": {},
   "outputs": [],
   "source": [
    "# we can use more informative variables like\n",
    "four = 4\n",
    "numberTwo = 2"
   ]
  },
  {
   "cell_type": "code",
   "execution_count": 10,
   "id": "cf12df74",
   "metadata": {},
   "outputs": [
    {
     "data": {
      "text/plain": [
       "6"
      ]
     },
     "execution_count": 10,
     "metadata": {},
     "output_type": "execute_result"
    }
   ],
   "source": [
    "four + numberTwo"
   ]
  },
  {
   "cell_type": "code",
   "execution_count": 11,
   "id": "d029f78e",
   "metadata": {},
   "outputs": [
    {
     "name": "stdout",
     "output_type": "stream",
     "text": [
      "2\n",
      "164\n"
     ]
    }
   ],
   "source": [
    "# we can manipulate the print\n",
    "# only the final line of code will print out an answer;\n",
    "# otherwise, you can use the print() function\n",
    "\n",
    "print(1 + 1)\n",
    "print(2 + 3 * 54)"
   ]
  },
  {
   "cell_type": "markdown",
   "id": "f8dc6cd0",
   "metadata": {},
   "source": [
    "### Exercises"
   ]
  },
  {
   "cell_type": "code",
   "execution_count": 12,
   "id": "7f7d45b7",
   "metadata": {},
   "outputs": [],
   "source": [
    "# Initialize three vars\n",
    "x = 7\n",
    "y = -2\n",
    "z = 5"
   ]
  },
  {
   "cell_type": "code",
   "execution_count": 13,
   "id": "5963f605",
   "metadata": {},
   "outputs": [
    {
     "data": {
      "text/plain": [
       "42"
      ]
     },
     "execution_count": 13,
     "metadata": {},
     "output_type": "execute_result"
    }
   ],
   "source": [
    "# 1)\n",
    "3 * x * (4 + y)"
   ]
  },
  {
   "cell_type": "code",
   "execution_count": 14,
   "id": "b09aef9e",
   "metadata": {},
   "outputs": [
    {
     "data": {
      "text/plain": [
       "0.0"
      ]
     },
     "execution_count": 14,
     "metadata": {},
     "output_type": "execute_result"
    }
   ],
   "source": [
    "-y - ((x+3)/z)"
   ]
  },
  {
   "cell_type": "code",
   "execution_count": null,
   "id": "efaeff41",
   "metadata": {},
   "outputs": [],
   "source": []
  }
 ],
 "metadata": {
  "kernelspec": {
   "display_name": "Python 3",
   "language": "python",
   "name": "python3"
  },
  "language_info": {
   "codemirror_mode": {
    "name": "ipython",
    "version": 3
   },
   "file_extension": ".py",
   "mimetype": "text/x-python",
   "name": "python",
   "nbconvert_exporter": "python",
   "pygments_lexer": "ipython3",
   "version": "3.8.8"
  }
 },
 "nbformat": 4,
 "nbformat_minor": 5
}
