{
 "cells": [
  {
   "cell_type": "markdown",
   "id": "d9ffd0ce",
   "metadata": {},
   "source": [
    "# Absolute value"
   ]
  },
  {
   "cell_type": "markdown",
   "id": "a524365e",
   "metadata": {},
   "source": [
    "- Learn how to interpret absolute value of a number\n",
    "- Known how to compute the absolute value in Python"
   ]
  },
  {
   "cell_type": "markdown",
   "id": "d1f620f9",
   "metadata": {},
   "source": [
    "### Absolute value as a distance to zero"
   ]
  },
  {
   "cell_type": "markdown",
   "id": "f39672a0",
   "metadata": {},
   "source": [
    "Absolute value is the distance of the number to the origin of the number line."
   ]
  },
  {
   "cell_type": "code",
   "execution_count": 1,
   "id": "80b8d6a1",
   "metadata": {},
   "outputs": [],
   "source": [
    "a = -10\n",
    "b = abs(a)"
   ]
  },
  {
   "cell_type": "code",
   "execution_count": 2,
   "id": "3d2ee763",
   "metadata": {},
   "outputs": [
    {
     "data": {
      "text/plain": [
       "(-10, 10)"
      ]
     },
     "execution_count": 2,
     "metadata": {},
     "output_type": "execute_result"
    }
   ],
   "source": [
    "a,b"
   ]
  },
  {
   "cell_type": "code",
   "execution_count": 3,
   "id": "be18f5d1",
   "metadata": {},
   "outputs": [],
   "source": [
    "from IPython.display import display, Math"
   ]
  },
  {
   "cell_type": "code",
   "execution_count": 4,
   "id": "614e792f",
   "metadata": {},
   "outputs": [
    {
     "data": {
      "text/latex": [
       "$\\displaystyle |-6| = 6$"
      ],
      "text/plain": [
       "<IPython.core.display.Math object>"
      ]
     },
     "metadata": {},
     "output_type": "display_data"
    }
   ],
   "source": [
    "# printing out with latex\n",
    "x = -6\n",
    "display(Math('|%g| = %g' %(x,abs(x)) ))"
   ]
  },
  {
   "cell_type": "markdown",
   "id": "fa42c455",
   "metadata": {},
   "source": [
    "### Exercise"
   ]
  },
  {
   "cell_type": "code",
   "execution_count": 5,
   "id": "e6d8f7b9",
   "metadata": {},
   "outputs": [
    {
     "data": {
      "text/latex": [
       "$\\displaystyle |6| = 6$"
      ],
      "text/plain": [
       "<IPython.core.display.Math object>"
      ]
     },
     "metadata": {},
     "output_type": "display_data"
    },
    {
     "data": {
      "text/latex": [
       "$\\displaystyle |43| = 43$"
      ],
      "text/plain": [
       "<IPython.core.display.Math object>"
      ]
     },
     "metadata": {},
     "output_type": "display_data"
    },
    {
     "data": {
      "text/latex": [
       "$\\displaystyle |-18| = 18$"
      ],
      "text/plain": [
       "<IPython.core.display.Math object>"
      ]
     },
     "metadata": {},
     "output_type": "display_data"
    }
   ],
   "source": [
    "number_set = [-4, 6, -1, 43, -18, 2, 0]\n",
    "\n",
    "for num in number_set:\n",
    "    if num < -5 or num > 2:\n",
    "        display(Math('|%g| = %g' %(num,abs(num)) ))\n",
    "    else:\n",
    "         print( str(i) + ' was not tested.' )"
   ]
  }
 ],
 "metadata": {
  "kernelspec": {
   "display_name": "Python 3",
   "language": "python",
   "name": "python3"
  },
  "language_info": {
   "codemirror_mode": {
    "name": "ipython",
    "version": 3
   },
   "file_extension": ".py",
   "mimetype": "text/x-python",
   "name": "python",
   "nbconvert_exporter": "python",
   "pygments_lexer": "ipython3",
   "version": "3.8.8"
  }
 },
 "nbformat": 4,
 "nbformat_minor": 5
}
