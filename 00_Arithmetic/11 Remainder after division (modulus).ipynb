{
 "cells": [
  {
   "cell_type": "markdown",
   "id": "1f74052e",
   "metadata": {},
   "source": [
    "# Remainder after division (modulus)"
   ]
  },
  {
   "cell_type": "code",
   "execution_count": 1,
   "id": "582fe149",
   "metadata": {},
   "outputs": [
    {
     "data": {
      "text/plain": [
       "3.3333333333333335"
      ]
     },
     "execution_count": 1,
     "metadata": {},
     "output_type": "execute_result"
    }
   ],
   "source": [
    "# pick some numbers\n",
    "a = 10\n",
    "b = 3\n",
    "\n",
    "# division\n",
    "a/b"
   ]
  },
  {
   "cell_type": "code",
   "execution_count": 2,
   "id": "92817dd9",
   "metadata": {},
   "outputs": [
    {
     "data": {
      "text/plain": [
       "3"
      ]
     },
     "execution_count": 2,
     "metadata": {},
     "output_type": "execute_result"
    }
   ],
   "source": [
    "# integer division\n",
    "int(a/b)"
   ]
  },
  {
   "cell_type": "code",
   "execution_count": 3,
   "id": "1c727aa0",
   "metadata": {},
   "outputs": [
    {
     "data": {
      "text/plain": [
       "1"
      ]
     },
     "execution_count": 3,
     "metadata": {},
     "output_type": "execute_result"
    }
   ],
   "source": [
    "# with a remainder!\n",
    "a%b"
   ]
  },
  {
   "cell_type": "code",
   "execution_count": 4,
   "id": "bd36b6c1",
   "metadata": {},
   "outputs": [
    {
     "name": "stdout",
     "output_type": "stream",
     "text": [
      "5 goes into 256, 51 times with a remainder of 1.\n"
     ]
    }
   ],
   "source": [
    "# now for a nicer printing\n",
    "# set variables for outputs\n",
    "a = 256\n",
    "b = 5\n",
    "\n",
    "divis = int(a/b)\n",
    "remainder = a%b\n",
    "\n",
    "print(\"%g goes into %g, %g times with a remainder of %g.\" %(b,a,divis,remainder))"
   ]
  },
  {
   "cell_type": "markdown",
   "id": "e44dbccd",
   "metadata": {},
   "source": [
    "### Exercises"
   ]
  },
  {
   "cell_type": "code",
   "execution_count": 8,
   "id": "5dbd93cb",
   "metadata": {},
   "outputs": [
    {
     "ename": "SyntaxError",
     "evalue": "invalid syntax (<ipython-input-8-442ae686004a>, line 8)",
     "output_type": "error",
     "traceback": [
      "\u001b[1;36m  File \u001b[1;32m\"<ipython-input-8-442ae686004a>\"\u001b[1;36m, line \u001b[1;32m8\u001b[0m\n\u001b[1;33m    space= num > 0 ? ' ' : ''\u001b[0m\n\u001b[1;37m                   ^\u001b[0m\n\u001b[1;31mSyntaxError\u001b[0m\u001b[1;31m:\u001b[0m invalid syntax\n"
     ]
    }
   ],
   "source": [
    "# integers from -5 to 5\n",
    "integers = range(-5,6)\n",
    "space = ''\n",
    "\n",
    "for num in integers:\n",
    "    \n",
    "    # check if its is positive number\n",
    "    space= '' if num<0 else ' '\n",
    "        \n",
    "    if (num%2 == 0):\n",
    "        print(\"{}{} is an even number\".format(space,num))\n",
    "    else:\n",
    "        print(\"{}{} is an odd  number\".format(space,num))"
   ]
  },
  {
   "cell_type": "code",
   "execution_count": null,
   "id": "e6c9dc35",
   "metadata": {},
   "outputs": [],
   "source": []
  }
 ],
 "metadata": {
  "kernelspec": {
   "display_name": "Python 3",
   "language": "python",
   "name": "python3"
  },
  "language_info": {
   "codemirror_mode": {
    "name": "ipython",
    "version": 3
   },
   "file_extension": ".py",
   "mimetype": "text/x-python",
   "name": "python",
   "nbconvert_exporter": "python",
   "pygments_lexer": "ipython3",
   "version": "3.8.8"
  }
 },
 "nbformat": 4,
 "nbformat_minor": 5
}
