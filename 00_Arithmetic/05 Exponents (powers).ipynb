{
 "cells": [
  {
   "cell_type": "markdown",
   "id": "fa524f18",
   "metadata": {},
   "source": [
    "# Exponents (powers)"
   ]
  },
  {
   "cell_type": "markdown",
   "id": "43bf541b",
   "metadata": {},
   "source": [
    "- Compute powers\n",
    "- Learn the law of exponents\n",
    "- Know how to illustrate math concepts in code"
   ]
  },
  {
   "cell_type": "code",
   "execution_count": 1,
   "id": "cbf6e081",
   "metadata": {},
   "outputs": [],
   "source": [
    "from IPython.display import display, Math"
   ]
  },
  {
   "cell_type": "markdown",
   "id": "8f7ebc9d",
   "metadata": {},
   "source": [
    "### Compute powers"
   ]
  },
  {
   "cell_type": "code",
   "execution_count": 2,
   "id": "cd4e8d2b",
   "metadata": {},
   "outputs": [
    {
     "data": {
      "text/plain": [
       "4"
      ]
     },
     "execution_count": 2,
     "metadata": {},
     "output_type": "execute_result"
    }
   ],
   "source": [
    "# use ** to make an exponent operation\n",
    "2**2"
   ]
  },
  {
   "cell_type": "code",
   "execution_count": 3,
   "id": "1faeb583",
   "metadata": {},
   "outputs": [
    {
     "data": {
      "text/plain": [
       "2"
      ]
     },
     "execution_count": 3,
     "metadata": {},
     "output_type": "execute_result"
    }
   ],
   "source": [
    "# careful not to confuse with ^\n",
    "3^1\n",
    "# this is actually the symbol for the XOR logical problem"
   ]
  },
  {
   "cell_type": "code",
   "execution_count": 4,
   "id": "9ef15eaf",
   "metadata": {},
   "outputs": [
    {
     "data": {
      "text/plain": [
       "9"
      ]
     },
     "execution_count": 4,
     "metadata": {},
     "output_type": "execute_result"
    }
   ],
   "source": [
    "# variables can also be useful\n",
    "x = 2\n",
    "3**x"
   ]
  },
  {
   "cell_type": "code",
   "execution_count": 5,
   "id": "fdb1eee5",
   "metadata": {},
   "outputs": [
    {
     "data": {
      "text/latex": [
       "$\\displaystyle \\sqrt{x} = x^{\\frac{1}{2}}$"
      ],
      "text/plain": [
       "<IPython.core.display.Math object>"
      ]
     },
     "metadata": {},
     "output_type": "display_data"
    }
   ],
   "source": [
    "# square root as fractional power\n",
    "display(Math(\"\\\\sqrt{x} = x^{\\\\frac{1}{2}}\"))"
   ]
  },
  {
   "cell_type": "code",
   "execution_count": 6,
   "id": "b70f066a",
   "metadata": {},
   "outputs": [
    {
     "name": "stdout",
     "output_type": "stream",
     "text": [
      "18\n"
     ]
    }
   ],
   "source": [
    "# The power operation is greater than the others\n",
    "print(2**1 * 3**2)"
   ]
  },
  {
   "cell_type": "markdown",
   "id": "ecf2ff7b",
   "metadata": {},
   "source": [
    "### The law of exponents"
   ]
  },
  {
   "cell_type": "markdown",
   "id": "c4401661",
   "metadata": {},
   "source": [
    "If you have the same base then you can add the exponents. For example:"
   ]
  },
  {
   "cell_type": "code",
   "execution_count": 7,
   "id": "51807326",
   "metadata": {},
   "outputs": [
    {
     "data": {
      "text/latex": [
       "$\\displaystyle 3^{2} \\times 3^{4} = 3^{2+4}$"
      ],
      "text/plain": [
       "<IPython.core.display.Math object>"
      ]
     },
     "metadata": {},
     "output_type": "display_data"
    }
   ],
   "source": [
    "display(Math(\"3^{2} \\\\times 3^{4} = 3^{2+4}\"))"
   ]
  },
  {
   "cell_type": "code",
   "execution_count": 8,
   "id": "1593312e",
   "metadata": {},
   "outputs": [
    {
     "data": {
      "text/latex": [
       "$\\displaystyle 3^{2} \\times 4^{4} = (3x4)^{2+4} = wrong!!$"
      ],
      "text/plain": [
       "<IPython.core.display.Math object>"
      ]
     },
     "metadata": {},
     "output_type": "display_data"
    }
   ],
   "source": [
    "# You cant do that\n",
    "display(Math(\"3^{2} \\\\times 4^{4} = (3x4)^{2+4} = wrong!!\"))"
   ]
  },
  {
   "cell_type": "markdown",
   "id": "dfe55ff7",
   "metadata": {},
   "source": [
    "### Exercises"
   ]
  },
  {
   "cell_type": "code",
   "execution_count": 14,
   "id": "d3f51f75",
   "metadata": {},
   "outputs": [
    {
     "data": {
      "text/latex": [
       "$\\displaystyle x^{3/4} \\times 4^{y} = 3933.09$"
      ],
      "text/plain": [
       "<IPython.core.display.Math object>"
      ]
     },
     "metadata": {},
     "output_type": "display_data"
    },
    {
     "data": {
      "text/latex": [
       "$\\displaystyle \\frac{3^{3}}{x^{y}} = 0.00735558$"
      ],
      "text/plain": [
       "<IPython.core.display.Math object>"
      ]
     },
     "metadata": {},
     "output_type": "display_data"
    },
    {
     "data": {
      "text/latex": [
       "$\\displaystyle 10^{x-4} = 10$"
      ],
      "text/plain": [
       "<IPython.core.display.Math object>"
      ]
     },
     "metadata": {},
     "output_type": "display_data"
    }
   ],
   "source": [
    "# Initialize the variables\n",
    "\n",
    "x = 5\n",
    "y = 5.1\n",
    "\n",
    "# 1)\n",
    "display(Math('x^{3/4} \\\\times 4^{y} = %g' %(x**(3/4) * 4**y ) ))\n",
    "\n",
    "# 2) \n",
    "display(Math('\\\\frac{3^{3}}{x^{y}} = %g' %(3**3/x**y) ))\n",
    "\n",
    "# 3) \n",
    "display(Math('10^{x-4} = %g' %(10**(x-4)) ))"
   ]
  }
 ],
 "metadata": {
  "kernelspec": {
   "display_name": "Python 3",
   "language": "python",
   "name": "python3"
  },
  "language_info": {
   "codemirror_mode": {
    "name": "ipython",
    "version": 3
   },
   "file_extension": ".py",
   "mimetype": "text/x-python",
   "name": "python",
   "nbconvert_exporter": "python",
   "pygments_lexer": "ipython3",
   "version": "3.8.8"
  }
 },
 "nbformat": 4,
 "nbformat_minor": 5
}
