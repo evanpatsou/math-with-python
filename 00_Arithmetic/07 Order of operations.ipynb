{
 "cells": [
  {
   "cell_type": "markdown",
   "id": "2b4a0f52",
   "metadata": {},
   "source": [
    "# Order of operations"
   ]
  },
  {
   "cell_type": "markdown",
   "id": "51ba5d3e",
   "metadata": {},
   "source": [
    " - Learn the mnemonic for order of operations\n",
    " - See the importance of spacing for visualiation and parentheses for grouping"
   ]
  },
  {
   "cell_type": "markdown",
   "id": "cd6ff96d",
   "metadata": {},
   "source": [
    "### Reminder about order of operations:\n",
    "PEMDAS:\n",
    "\n",
    "    Parentheses\n",
    "    Exponents\n",
    "    Multiplication\n",
    "    Division\n",
    "    Addition\n",
    "    Subtraction\n",
    "    \n",
    "(Please excuse my dear aunt Sally)"
   ]
  },
  {
   "cell_type": "code",
   "execution_count": 1,
   "id": "492cd2f3",
   "metadata": {},
   "outputs": [
    {
     "name": "stdout",
     "output_type": "stream",
     "text": [
      "9\n"
     ]
    }
   ],
   "source": [
    "print( 4 + 3 * 2 - 1 ) # spacing has no effect"
   ]
  },
  {
   "cell_type": "code",
   "execution_count": 2,
   "id": "af5516d8",
   "metadata": {},
   "outputs": [
    {
     "name": "stdout",
     "output_type": "stream",
     "text": [
      "9\n"
     ]
    }
   ],
   "source": [
    "# Its better to put parenthesis to make it more readable\n",
    "print( 4 + (3 * 2) - 1)"
   ]
  },
  {
   "cell_type": "code",
   "execution_count": 3,
   "id": "fa731333",
   "metadata": {},
   "outputs": [
    {
     "name": "stdout",
     "output_type": "stream",
     "text": [
      "13\n"
     ]
    }
   ],
   "source": [
    "# OR we can make the additions first using parentheses\n",
    "print( (4 + 3) * 2 - 1 ) "
   ]
  },
  {
   "cell_type": "markdown",
   "id": "15a9d5c0",
   "metadata": {},
   "source": [
    "### Exercises"
   ]
  },
  {
   "cell_type": "code",
   "execution_count": 4,
   "id": "a094508a",
   "metadata": {},
   "outputs": [
    {
     "name": "stdout",
     "output_type": "stream",
     "text": [
      "2.0\n",
      "0.0\n"
     ]
    }
   ],
   "source": [
    "# add parentheses as needed to make the following equations true\n",
    "\n",
    "# 1) \n",
    "print( 4*5/(7+3) ) # = 2\n",
    "\n",
    "# 2)\n",
    "print( 9/(3+6)-1 ) # = 0"
   ]
  }
 ],
 "metadata": {
  "kernelspec": {
   "display_name": "Python 3",
   "language": "python",
   "name": "python3"
  },
  "language_info": {
   "codemirror_mode": {
    "name": "ipython",
    "version": 3
   },
   "file_extension": ".py",
   "mimetype": "text/x-python",
   "name": "python",
   "nbconvert_exporter": "python",
   "pygments_lexer": "ipython3",
   "version": "3.8.8"
  }
 },
 "nbformat": 4,
 "nbformat_minor": 5
}
