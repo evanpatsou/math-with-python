{
 "cells": [
  {
   "cell_type": "markdown",
   "id": "bda44587",
   "metadata": {},
   "source": [
    "# Testing inequalities and Boolean data type"
   ]
  },
  {
   "cell_type": "code",
   "execution_count": 1,
   "id": "37e29ee6",
   "metadata": {},
   "outputs": [],
   "source": [
    "from IPython.display import display, Math"
   ]
  },
  {
   "cell_type": "markdown",
   "id": "7ae16714",
   "metadata": {},
   "source": [
    "### Inequalities"
   ]
  },
  {
   "cell_type": "code",
   "execution_count": 2,
   "id": "0105395e",
   "metadata": {},
   "outputs": [
    {
     "data": {
      "text/plain": [
       "'4 > 3 (4 is greater than 3)'"
      ]
     },
     "metadata": {},
     "output_type": "display_data"
    },
    {
     "data": {
      "text/plain": [
       "'4 < 5 (4 is less than 5)'"
      ]
     },
     "metadata": {},
     "output_type": "display_data"
    },
    {
     "data": {
      "text/latex": [
       "$\\displaystyle \\[4 \\geq 2 + 2 \\left ( \text{greater than or equal to} \r",
       "ight )\\]$"
      ],
      "text/plain": [
       "<IPython.core.display.Math object>"
      ]
     },
     "metadata": {},
     "output_type": "display_data"
    },
    {
     "data": {
      "text/latex": [
       "$\\displaystyle 4 \\leq 2 + 2 \\left ( \text{less than or equal to} \r",
       "ight )$"
      ],
      "text/plain": [
       "<IPython.core.display.Math object>"
      ]
     },
     "metadata": {},
     "output_type": "display_data"
    }
   ],
   "source": [
    "display(\"4 > 3 (4 is greater than 3)\")\n",
    "display(\"4 < 5 (4 is less than 5)\")\n",
    "display(Math(\"\\[4 \\geq 2 + 2 \\left ( \\text{greater than or equal to} \\right )\\]\"))\n",
    "display(Math(\"4 \\leq 2 + 2 \\left ( \\text{less than or equal to} \\right )\"))"
   ]
  },
  {
   "cell_type": "code",
   "execution_count": 3,
   "id": "a94d4513",
   "metadata": {},
   "outputs": [
    {
     "data": {
      "text/latex": [
       "$\\displaystyle True = 1$"
      ],
      "text/plain": [
       "<IPython.core.display.Math object>"
      ]
     },
     "metadata": {},
     "output_type": "display_data"
    },
    {
     "data": {
      "text/latex": [
       "$\\displaystyle False = 0$"
      ],
      "text/plain": [
       "<IPython.core.display.Math object>"
      ]
     },
     "metadata": {},
     "output_type": "display_data"
    }
   ],
   "source": [
    "### Boolean or aka Logical\n",
    "\n",
    "display(Math(\"True = 1\"))\n",
    "display(Math(\"False = 0\")) "
   ]
  },
  {
   "cell_type": "code",
   "execution_count": 4,
   "id": "a0479135",
   "metadata": {},
   "outputs": [],
   "source": [
    "b = 10 > 3*2"
   ]
  },
  {
   "cell_type": "code",
   "execution_count": 5,
   "id": "711882b8",
   "metadata": {},
   "outputs": [
    {
     "data": {
      "text/latex": [
       "$\\displaystyle 10 > 3 \\times 2 = 1$"
      ],
      "text/plain": [
       "<IPython.core.display.Math object>"
      ]
     },
     "metadata": {},
     "output_type": "display_data"
    },
    {
     "name": "stdout",
     "output_type": "stream",
     "text": [
      "True\n"
     ]
    }
   ],
   "source": [
    "display(Math(\"10 > 3 \\\\times 2 = %g\" %(b)))\n",
    "print(b)"
   ]
  },
  {
   "cell_type": "code",
   "execution_count": 6,
   "id": "713d20a9",
   "metadata": {},
   "outputs": [
    {
     "data": {
      "text/plain": [
       "True"
      ]
     },
     "execution_count": 6,
     "metadata": {},
     "output_type": "execute_result"
    }
   ],
   "source": [
    "# testing for equalities requires two equals signs\n",
    "\n",
    "# 4 = 4\n",
    "4 == 4"
   ]
  },
  {
   "cell_type": "markdown",
   "id": "1c4b66aa",
   "metadata": {},
   "source": [
    "### Exercises"
   ]
  },
  {
   "cell_type": "code",
   "execution_count": 10,
   "id": "0856fa09",
   "metadata": {},
   "outputs": [
    {
     "name": "stdout",
     "output_type": "stream",
     "text": [
      "True\n",
      "True\n"
     ]
    }
   ],
   "source": [
    "# which variable value(s) will make the following inequalities true?\n",
    "# comment out the incorrect answers!\n",
    "x = 2\n",
    "#x = 3 ->  wrong\n",
    "#x = 4 -> wrong\n",
    "\n",
    "#1)\n",
    "print(4*x + 3 < 17 - x**2)\n",
    "#2)\n",
    "print(8*x - 2 <= -3*x + 42)"
   ]
  }
 ],
 "metadata": {
  "kernelspec": {
   "display_name": "Python 3",
   "language": "python",
   "name": "python3"
  },
  "language_info": {
   "codemirror_mode": {
    "name": "ipython",
    "version": 3
   },
   "file_extension": ".py",
   "mimetype": "text/x-python",
   "name": "python",
   "nbconvert_exporter": "python",
   "pygments_lexer": "ipython3",
   "version": "3.8.8"
  }
 },
 "nbformat": 4,
 "nbformat_minor": 5
}
