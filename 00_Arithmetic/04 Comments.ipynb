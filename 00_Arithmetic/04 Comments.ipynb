{
 "cells": [
  {
   "cell_type": "markdown",
   "id": "29bffe2c",
   "metadata": {},
   "source": [
    "# Comments"
   ]
  },
  {
   "cell_type": "markdown",
   "id": "434ba26c",
   "metadata": {},
   "source": [
    "Comments are lines that exist in computer programs that are ignored by compilers and interpreters. Using comments in programs can make code more readable for humans, as it provides some information or explanation about what each part of a program is doing."
   ]
  },
  {
   "cell_type": "markdown",
   "id": "0126da27",
   "metadata": {},
   "source": [
    "### Line comment"
   ]
  },
  {
   "cell_type": "code",
   "execution_count": 1,
   "id": "930beeb4",
   "metadata": {},
   "outputs": [
    {
     "data": {
      "text/plain": [
       "4"
      ]
     },
     "execution_count": 1,
     "metadata": {},
     "output_type": "execute_result"
    }
   ],
   "source": [
    "# This is a line comment\n",
    "# You can make a comment using the symbol #\n",
    "# Python ignores everything after the hashtag\n",
    "\n",
    "x = 4 # This will be ignored too, it's called inline comment\n",
    "# x = 5\n",
    "\n",
    "x"
   ]
  },
  {
   "cell_type": "markdown",
   "id": "dfea89dc",
   "metadata": {},
   "source": [
    "### Block comments"
   ]
  },
  {
   "cell_type": "markdown",
   "id": "7cbac289",
   "metadata": {},
   "source": [
    "Block comments can be used to explain more complicated code or code that you don’t expect the reader to be familiar with. These longer-form comments apply to some or all of the code that follows, and are also indented at the same level as the code."
   ]
  },
  {
   "cell_type": "code",
   "execution_count": null,
   "id": "47c36248",
   "metadata": {},
   "outputs": [],
   "source": [
    "# The main function will parse arguments via the parser variable.  These\n",
    "# arguments will be defined by the user on the console.  This will pass\n",
    "# the word argument the user wants to parse along with the filename the\n",
    "# user wants to use, and also provide help text if the user does not\n",
    "# correctly pass the arguments.\n",
    "\n",
    "def main():\n",
    "  parser = argparse.ArgumentParser()\n",
    "  parser.add_argument(\n",
    "      \"word\",\n",
    "      help=\"the word to be searched for in the text file.\"\n",
    "  )\n",
    "  parser.add_argument(\n",
    "      \"filename\",\n",
    "      help=\"the path to the text file to be searched through\"\n",
    "  )\n",
    "..."
   ]
  }
 ],
 "metadata": {
  "kernelspec": {
   "display_name": "Python 3",
   "language": "python",
   "name": "python3"
  },
  "language_info": {
   "codemirror_mode": {
    "name": "ipython",
    "version": 3
   },
   "file_extension": ".py",
   "mimetype": "text/x-python",
   "name": "python",
   "nbconvert_exporter": "python",
   "pygments_lexer": "ipython3",
   "version": "3.8.8"
  }
 },
 "nbformat": 4,
 "nbformat_minor": 5
}
